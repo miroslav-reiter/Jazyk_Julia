{
 "cells": [
  {
   "cell_type": "code",
   "execution_count": 21,
   "id": "a8a37b4f-016f-40f6-8af1-0bf50ca82b7a",
   "metadata": {},
   "outputs": [
    {
     "name": "stdout",
     "output_type": "stream",
     "text": [
      "10\n",
      "Súčet: 15\n",
      "Rozdiel: 5\n",
      "Násobok: 50\n",
      "Podiel: 2.0\n",
      "Aktualny datum:2024-01-01\n",
      "Jana\n",
      "pes: Pes(\"Luigi\")\n",
      "Toto je text bez nového riadka. Toto je text s novým riadkom.\n",
      "Súčet 2 + 3 = 5\n",
      "Zadaj svoje meno: \n"
     ]
    },
    {
     "name": "stdin",
     "output_type": "stream",
     "text": [
      "stdin>  Karol\n"
     ]
    },
    {
     "name": "stdout",
     "output_type": "stream",
     "text": [
      "Ahoj, Karol!\n"
     ]
    }
   ],
   "source": [
    "# Premenne a typy\n",
    "a::Int64 = 10\n",
    "b::Float64 = 3.14\n",
    "c::Complex{Float64} = 2 + 3im\n",
    "d::Rational{Int64} = 3//4\n",
    "\n",
    "println(a)\n",
    "\n",
    "x = 10\n",
    "y = 5\n",
    "println(\"Súčet: \", x + y)\n",
    "println(\"Rozdiel: \", x - y)\n",
    "println(\"Násobok: \", x * y)\n",
    "println(\"Podiel: \", x / y)  # Opravená chyba\n",
    "\n",
    "is_valid::Bool = true\n",
    "\n",
    "meno::String = \"Julia\"\n",
    "pismeno::Char = 'J'\n",
    "\n",
    "pole::Array{Int64, 1} = [1, 2, 3, 4]\n",
    "tuple::Tuple{Int, String} = (1, \"Julia\")\n",
    "\n",
    "# Datumy a casy\n",
    "using Dates\n",
    "datum::Date = Date(2024, 1, 1)\n",
    "cas::DateTime = DateTime(2024, 1, 1, 12, 0)\n",
    "print(\"Aktualny datum:\", datum, \"\\n\")\n",
    "\n",
    "# 🔑 Dátové Štruktúry\n",
    "dictionary::Dict{String, Int} = Dict(\"A\" => 1, \"B\" => 2)\n",
    "mnozina::Set{Int} = Set([1, 2, 3])\n",
    "\n",
    "# data::Union{Int, String} = 42\n",
    "# cannot set type for global Main.data. It already has a value or is already set to a different type.\n",
    "# V jazyku Julia nie je možné zmeniť typ globálnej premennej, ak už bola inicializovaná\n",
    "\n",
    "# 🛠️ Používateľsky Definované Typy (UDT)\n",
    "struct Student\n",
    "    meno::String\n",
    "    vek::Int\n",
    "end\n",
    "\n",
    "student = Student(\"Jana\", 20)\n",
    "println(student.meno)  # Výstup: Jana\n",
    "\n",
    "# ⚙️ Abstraktné Typy a Dedičnosť\n",
    "abstract type Zviera end\n",
    "\n",
    "struct Pes <: Zviera\n",
    "    meno::String\n",
    "end\n",
    "\n",
    "struct Macka <: Zviera\n",
    "    meno::String\n",
    "end\n",
    "\n",
    "pes = Pes(\"Luigi\")\n",
    "macka = Macka(\"Micka\")\n",
    "\n",
    "println(\"pes: \" * string(pes))\n",
    "\n",
    "# Výstup na konzolu\n",
    "print(\"Toto je text bez nového riadka.\")\n",
    "println(\" Toto je text s novým riadkom.\")\n",
    "println(\"Súčet 2 + 3 = \", 2 + 3)  # Kombinácia textu a výpočtu\n",
    "\n",
    "# Vstup od používateľa\n",
    "println(\"Zadaj svoje meno: \")\n",
    "meno = readline()\n",
    "println(\"Ahoj, \", meno, \"!\")\n"
   ]
  },
  {
   "cell_type": "code",
   "execution_count": 22,
   "id": "e392647b-ea63-4b66-8f74-e2bd71665667",
   "metadata": {},
   "outputs": [
    {
     "name": "stdout",
     "output_type": "stream",
     "text": [
      "Zadaj číslo: \n"
     ]
    },
    {
     "name": "stdin",
     "output_type": "stream",
     "text": [
      "stdin>  5\n"
     ]
    },
    {
     "name": "stdout",
     "output_type": "stream",
     "text": [
      "Tvoje číslo + 5 je 10\n",
      "Zadaj desatinné číslo: \n"
     ]
    },
    {
     "name": "stdin",
     "output_type": "stream",
     "text": [
      "stdin>  3.2\n"
     ]
    },
    {
     "name": "stdout",
     "output_type": "stream",
     "text": [
      "Tvoje číslo / 2 je 1.6\n"
     ]
    }
   ],
   "source": [
    "# Konverzia vstupu na iný typ\n",
    "println(\"Zadaj číslo: \")\n",
    "vstup = readline()\n",
    "\n",
    "cislo = parse(Int, vstup)  # Konverzia na celé číslo\n",
    "println(\"Tvoje číslo + 5 je \", cislo + 5)\n",
    "\n",
    "println(\"Zadaj desatinné číslo: \")\n",
    "vstup_float = readline()\n",
    "\n",
    "cislo_float = parse(Float64, vstup_float)  # Konverzia na desatinné číslo\n",
    "println(\"Tvoje číslo / 2 je \", cislo_float / 2)"
   ]
  },
  {
   "cell_type": "code",
   "execution_count": 24,
   "id": "11cd4095-3294-4d4a-abd3-cf477edbd176",
   "metadata": {},
   "outputs": [
    {
     "name": "stdout",
     "output_type": "stream",
     "text": [
      "Zadaj celé číslo: \n"
     ]
    },
    {
     "name": "stdin",
     "output_type": "stream",
     "text": [
      "stdin>  karol\n"
     ]
    },
    {
     "name": "stdout",
     "output_type": "stream",
     "text": [
      "Zadal si neplatnú hodnotu. Prosím, zadaj číslo.\n"
     ]
    }
   ],
   "source": [
    "# Bezpečné spracovanie vstupu\n",
    "println(\"Zadaj celé číslo: \")\n",
    "try\n",
    "    cislo = parse(Int, readline())\n",
    "    println(\"Zadal si číslo \", cislo)\n",
    "catch\n",
    "    println(\"Zadal si neplatnú hodnotu. Prosím, zadaj číslo.\")\n",
    "end\n"
   ]
  },
  {
   "cell_type": "code",
   "execution_count": 25,
   "id": "a49d61d0-5075-4714-9228-3313d28ead4d",
   "metadata": {},
   "outputs": [
    {
     "name": "stdout",
     "output_type": "stream",
     "text": [
      "Meno: Martin, Vek: 25 rokov\n"
     ]
    }
   ],
   "source": [
    "# Formátovaný výstup\n",
    "using Printf\n",
    "\n",
    "meno = \"Martin\"\n",
    "vek = 25\n",
    "@printf(\"Meno: %s, Vek: %d rokov\\n\", meno, vek)\n"
   ]
  },
  {
   "cell_type": "code",
   "execution_count": null,
   "id": "3bd7e85e-0c4f-40e0-8f26-e9a609d0a6ef",
   "metadata": {},
   "outputs": [],
   "source": [
    "\n"
   ]
  }
 ],
 "metadata": {
  "kernelspec": {
   "display_name": "Julia 1.10.4",
   "language": "julia",
   "name": "julia-1.10"
  },
  "language_info": {
   "file_extension": ".jl",
   "mimetype": "application/julia",
   "name": "julia",
   "version": "1.10.4"
  }
 },
 "nbformat": 4,
 "nbformat_minor": 5
}
