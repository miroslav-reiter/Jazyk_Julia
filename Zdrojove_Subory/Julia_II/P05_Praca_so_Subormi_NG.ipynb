{
 "cells": [
  {
   "cell_type": "markdown",
   "id": "951f81a6-0785-492d-a652-5d2d24991f94",
   "metadata": {},
   "source": [
    "# 📄 Práca so Súbormi"
   ]
  },
  {
   "cell_type": "markdown",
   "id": "9589c4a8-980e-42de-8636-507efab5e3b8",
   "metadata": {},
   "source": [
    "## 📂 1. Otvorenie a čítanie súboru\n",
    "- Použitie funkcie read, readline alebo readlines na načítanie obsahu"
   ]
  },
  {
   "cell_type": "code",
   "execution_count": 8,
   "id": "e38c713b-a696-46b8-9f6c-3b456d6bfba4",
   "metadata": {},
   "outputs": [
    {
     "ename": "LoadError",
     "evalue": "SystemError: opening file \"subor.txt\": No such file or directory",
     "output_type": "error",
     "traceback": [
      "SystemError: opening file \"subor.txt\": No such file or directory",
      "",
      "Stacktrace:",
      " [1] systemerror(p::String, errno::Int32; extrainfo::Nothing)",
      "   @ Base .\\error.jl:176",
      " [2] systemerror",
      "   @ .\\error.jl:175 [inlined]",
      " [3] open(fname::String; lock::Bool, read::Nothing, write::Nothing, create::Nothing, truncate::Nothing, append::Nothing)",
      "   @ Base .\\iostream.jl:295",
      " [4] open",
      "   @ .\\iostream.jl:277 [inlined]",
      " [5] open(f::Base.var\"#472#473\"{String}, args::String; kwargs::@Kwargs{})",
      "   @ Base .\\io.jl:408",
      " [6] open",
      "   @ .\\io.jl:407 [inlined]",
      " [7] read(filename::String, ::Type{String})",
      "   @ Base .\\io.jl:507",
      " [8] top-level scope",
      "   @ In[8]:4"
     ]
    }
   ],
   "source": [
    "# Otvorenie a čítanie súboru\n",
    "\n",
    "# Načítanie celého súboru ako reťazec\n",
    "\n",
    "\n",
    "# Načítanie prveho riadky\n",
    "\n",
    "# Načítanie všetkých riadkov do poľa\n"
   ]
  },
  {
   "cell_type": "code",
   "execution_count": 9,
   "id": "e387a805-8c3d-4372-93fe-43eb2a6bb5ba",
   "metadata": {},
   "outputs": [
    {
     "name": "stdout",
     "output_type": "stream",
     "text": [
      "Chyba: SystemError(\"opening file \\\"subor.txt\\\"\", 2, nothing)\n"
     ]
    }
   ],
   "source": []
  },
  {
   "cell_type": "code",
   "execution_count": 10,
   "id": "59bd6cab-9c56-4b38-a546-bd0a94233cd9",
   "metadata": {},
   "outputs": [
    {
     "name": "stdout",
     "output_type": "stream",
     "text": [
      "Súbor 'subor.txt' neexistuje. Vytváram nový...\n",
      "Obsah súboru: Toto je testovací obsah súboru.\n",
      "\n"
     ]
    }
   ],
   "source": [
    "\n"
   ]
  },
  {
   "cell_type": "code",
   "execution_count": 11,
   "id": "5c6e31c0-d716-4e7f-97fb-ed32c28bfd5a",
   "metadata": {},
   "outputs": [
    {
     "name": "stdout",
     "output_type": "stream",
     "text": [
      "Obsah súboru: Toto je testovací obsah súboru.\n",
      "\n"
     ]
    }
   ],
   "source": [
    "\n"
   ]
  },
  {
   "cell_type": "markdown",
   "id": "9fdb97f1-6e34-478c-b5b4-ee217590cd95",
   "metadata": {},
   "source": [
    "## 📝 2. Zápis do súboru\n",
    "- Použitie funkcie write alebo open s režimom \"w\""
   ]
  },
  {
   "cell_type": "code",
   "execution_count": 12,
   "id": "c3200157-9005-4daf-86a6-f5091229e9cf",
   "metadata": {},
   "outputs": [
    {
     "data": {
      "text/plain": [
       "14"
      ]
     },
     "execution_count": 12,
     "metadata": {},
     "output_type": "execute_result"
    }
   ],
   "source": []
  },
  {
   "cell_type": "markdown",
   "id": "c237c670-b6c6-464e-9d5a-86ee830d9861",
   "metadata": {},
   "source": [
    "## 📌 3. Pridanie textu do existujúceho súboru\n",
    "- Použitie režimu \"a\" (append)"
   ]
  },
  {
   "cell_type": "code",
   "execution_count": 5,
   "id": "c52f6158-50ec-4660-b62f-d3cfd020a306",
   "metadata": {},
   "outputs": [
    {
     "data": {
      "text/plain": [
       "38"
      ]
     },
     "execution_count": 5,
     "metadata": {},
     "output_type": "execute_result"
    }
   ],
   "source": []
  },
  {
   "cell_type": "markdown",
   "id": "e369f76c-8ff1-442e-aa88-2c83b98d43c8",
   "metadata": {},
   "source": [
    "## 🔍 4. Kontrola existencie súboru\n",
    "- Použitie isfile."
   ]
  },
  {
   "cell_type": "code",
   "execution_count": 6,
   "id": "8ef9a0a4-510e-420f-a992-5d848070d387",
   "metadata": {},
   "outputs": [
    {
     "name": "stdout",
     "output_type": "stream",
     "text": [
      "Súbor neexistuje.\n"
     ]
    }
   ],
   "source": [
    "# Kontrola existencie súboru\n"
   ]
  },
  {
   "cell_type": "markdown",
   "id": "6e809200-730e-4eac-96ee-f2cbaf6d4cd0",
   "metadata": {},
   "source": [
    "## 🗑️ 5. Odstránenie súboru\n",
    "- Použitie rm."
   ]
  },
  {
   "cell_type": "code",
   "execution_count": null,
   "id": "18b85bb6-642e-457a-b321-9778678d3d0f",
   "metadata": {},
   "outputs": [],
   "source": [
    "# Odstránenie súboru\n"
   ]
  },
  {
   "cell_type": "markdown",
   "id": "e8e3220e-8492-416b-8295-032d33166708",
   "metadata": {},
   "source": [
    "## 📂 6. Práca s adresármi\n",
    "- readdir() – získanie zoznamu súborov v priečinku\n",
    "- mkdir() – vytvorenie adresára\n",
    "- rm(dir, recursive=true) – odstránenie priečinka"
   ]
  },
  {
   "cell_type": "code",
   "execution_count": 7,
   "id": "0982cc7a-b31f-4046-affb-79009272baa5",
   "metadata": {},
   "outputs": [
    {
     "name": "stdout",
     "output_type": "stream",
     "text": [
      "[\"! DTI Inovatívne prístupy v edukácii.lnk\", \"! PHD VŠEM.lnk\", \"! VAVA.lnk\", \".ipynb_checkpoints\", \"Advanced BAT to EXE Converter v4.61.lnk\", \"Docker Desktop.lnk\", \"Dokumenty\", \"Financie.lnk\", \"GitHub Desktop.lnk\", \"IntelliJ IDEA Ultimate.lnk\", \"Julia II\", \"Marketing.lnk\", \"Nmap - Zenmap GUI.lnk\", \"OneDrive IT Academy.lnk\", \"OneDrive.lnk\", \"Online Marketingové Nástroje.lnk\", \"P02_Praca_s_Vystupom.ipynb\", \"P02_Praca_s_Vystupom_OK.ipynb\", \"P03_Praca_s_Chybami.ipynb\", \"P03_Praca_s_Chybami_NG.ipynb\", \"P04_Datumy_a_Casy.ipynb\", \"P04_Datumy_a_Casy_NG.ipynb\", \"P04_Datumy_a_Casy_OK.ipynb\", \"P05_Praca_so_Subormi.ipynb\", \"Profesijné Tituly.lnk\", \"SAV Kurzy.lnk\", \"SSH Kľúče.lnk\", \"Stiahnuté súbory.lnk\", \"TODO.lnk\", \"VITA.lnk\", \"Vedecké Články.lnk\", \"desktop.ini\", \"music_for_programming.lnk\", \"vystup.txt\", \"~\\$Meranie-Výkonu.xlsx\", \"~\\$ičenia - Umelá Inteligencia OK.docx\", \"~\\$ncept_plánu_kurzov_2024_ZS_updated_30.7.2024.docx\", \"~\\$vlastny_material.docx\", \"ÚPSVaR.lnk\", \"Šablóny a Odpovede.lnk\", \"Škola.lnk\"]\n"
     ]
    }
   ],
   "source": [
    "# Práca s adresármi\n",
    "\n",
    "# Výpis obsahu aktuálneho priečinka\n",
    "\n",
    "# Vytvorenie adresára\n",
    "\n",
    "# Odstránenie adresára\n"
   ]
  },
  {
   "cell_type": "code",
   "execution_count": null,
   "id": "ef3098c9-dc27-4804-8b5d-544ceb899340",
   "metadata": {},
   "outputs": [],
   "source": []
  }
 ],
 "metadata": {
  "kernelspec": {
   "display_name": "Julia 1.11.2",
   "language": "julia",
   "name": "julia-1.11"
  },
  "language_info": {
   "file_extension": ".jl",
   "mimetype": "application/julia",
   "name": "julia",
   "version": "1.11.2"
  }
 },
 "nbformat": 4,
 "nbformat_minor": 5
}
