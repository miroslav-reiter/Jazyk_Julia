{
 "cells": [
  {
   "cell_type": "code",
   "execution_count": 1,
   "id": "b68e69bd-8dbf-43cb-9490-94d082fdca23",
   "metadata": {},
   "outputs": [
    {
     "name": "stdout",
     "output_type": "stream",
     "text": [
      "Ahoj Funkcia 😎\n"
     ]
    }
   ],
   "source": [
    "println(\"Ahoj Funkcia 😎\")"
   ]
  },
  {
   "cell_type": "code",
   "execution_count": 2,
   "id": "dff004e7-e18d-4156-84d7-9cf182e3c5a3",
   "metadata": {},
   "outputs": [
    {
     "name": "stdout",
     "output_type": "stream",
     "text": [
      "Ahoj Funkcia 😎"
     ]
    }
   ],
   "source": [
    "print(\"Ahoj Funkcia 😎\")"
   ]
  },
  {
   "cell_type": "code",
   "execution_count": 3,
   "id": "f68ee47a-2d4d-45f5-abad-11f58727ebf1",
   "metadata": {},
   "outputs": [
    {
     "name": "stdout",
     "output_type": "stream",
     "text": [
      "Int64\n"
     ]
    }
   ],
   "source": [
    "x = 42\n",
    "println(typeof(x))  # Int64"
   ]
  },
  {
   "cell_type": "code",
   "execution_count": 4,
   "id": "a94cddb4-883f-4ce8-b691-5a74acda2494",
   "metadata": {},
   "outputs": [
    {
     "name": "stdout",
     "output_type": "stream",
     "text": [
      "5\n"
     ]
    }
   ],
   "source": [
    "pole = [1, 2, 3, 4, 5]\n",
    "println(length(pole))  # 5"
   ]
  },
  {
   "cell_type": "code",
   "execution_count": 5,
   "id": "25ba4427-8697-45fb-b2ad-36428986311e",
   "metadata": {},
   "outputs": [
    {
     "name": "stdout",
     "output_type": "stream",
     "text": [
      "10\n"
     ]
    }
   ],
   "source": [
    "pole = [1, 2, 3, 4]\n",
    "println(sum(pole))  # 10"
   ]
  },
  {
   "cell_type": "code",
   "execution_count": 6,
   "id": "44fefc25-6f3d-4140-ac2d-365f8dea4c3b",
   "metadata": {},
   "outputs": [
    {
     "name": "stdout",
     "output_type": "stream",
     "text": [
      "20\n",
      "5\n"
     ]
    }
   ],
   "source": [
    "pole = [10, 5, 8, 20]\n",
    "println(maximum(pole))  # 20\n",
    "println(minimum(pole))  # 5"
   ]
  },
  {
   "cell_type": "code",
   "execution_count": 7,
   "id": "5255f5a4-b7e8-4d8f-9039-a84f1d3da50a",
   "metadata": {},
   "outputs": [
    {
     "name": "stdout",
     "output_type": "stream",
     "text": [
      "7\n"
     ]
    }
   ],
   "source": [
    "println(abs(-7))  # 7"
   ]
  },
  {
   "cell_type": "code",
   "execution_count": 9,
   "id": "9a782d7a-3f08-41e9-af1e-f81e65d4d4ce",
   "metadata": {},
   "outputs": [
    {
     "name": "stdout",
     "output_type": "stream",
     "text": [
      "4.028647415696738\n"
     ]
    }
   ],
   "source": [
    "println(sqrt(16.23))  # 4.0"
   ]
  },
  {
   "cell_type": "code",
   "execution_count": 13,
   "id": "79efa33b-f20f-492f-8827-818f1931cca6",
   "metadata": {},
   "outputs": [
    {
     "name": "stdout",
     "output_type": "stream",
     "text": [
      "1.365e6\n"
     ]
    }
   ],
   "source": [
    "x = 1_365_465.567\n",
    "println(round(x, digits=-3))  # 3.57"
   ]
  },
  {
   "cell_type": "code",
   "execution_count": 18,
   "id": "dbd798c4-4f0c-4068-ad41-baa2794f6444",
   "metadata": {},
   "outputs": [
    {
     "name": "stdout",
     "output_type": "stream",
     "text": [
      "0.7566464216956972\n",
      "2\n"
     ]
    }
   ],
   "source": [
    "println(rand())         # Náhodné číslo v intervale [0, 1]\n",
    "println(rand(1:6))     # Náhodné číslo od 1 do 10"
   ]
  },
  {
   "cell_type": "code",
   "execution_count": 21,
   "id": "c9a430fa-fce4-4fed-8809-6c5d6c447b54",
   "metadata": {},
   "outputs": [
    {
     "name": "stdout",
     "output_type": "stream",
     "text": [
      "[1, 2, 3, 4, 5]\n",
      "Vector{Int64}\n",
      "1:5\n",
      "UnitRange{Int64}\n"
     ]
    }
   ],
   "source": [
    "rozsah = 1:5\n",
    "x = collect(rozsah)\n",
    "println(x)  # [1, 2, 3, 4, 5]\n",
    "println(typeof(x))\n",
    "\n",
    "println(rozsah)\n",
    "println(typeof(rozsah))"
   ]
  },
  {
   "cell_type": "code",
   "execution_count": 23,
   "id": "16abcf6e-4896-41aa-92a7-4467f436d938",
   "metadata": {},
   "outputs": [
    {
     "name": "stdout",
     "output_type": "stream",
     "text": [
      "[1, 4, 9, 16]\n"
     ]
    }
   ],
   "source": [
    "pole = [1, 2, 3, 4]\n",
    "println(map(x -> x ^ 2, pole))  # [2, 4, 6, 8]"
   ]
  },
  {
   "cell_type": "code",
   "execution_count": 24,
   "id": "e9aecce1-13fb-42f0-97ef-1dc7961c1ef4",
   "metadata": {},
   "outputs": [
    {
     "name": "stdout",
     "output_type": "stream",
     "text": [
      "[4, 5]\n"
     ]
    }
   ],
   "source": [
    "pole = [1, 2, 3, 4, 5]\n",
    "println(filter(x -> x > 3, pole))  # [4, 5]"
   ]
  },
  {
   "cell_type": "code",
   "execution_count": 31,
   "id": "76b89aac-982f-4c52-a32f-2333c291b507",
   "metadata": {},
   "outputs": [
    {
     "name": "stdout",
     "output_type": "stream",
     "text": [
      "[2, 4]\n",
      "1\n"
     ]
    }
   ],
   "source": [
    "pole = [1, 2, 3, 2, 4]\n",
    "println(findall(x -> x == 2, pole))  # [2, 4]\n",
    "\n",
    "println(pole[1])\n",
    "\n",
    "# Python, C++, C, Java od 0\n",
    "# Julia, MATLAB, Wolfram Alfa, R, fotran, Lua, Cobol, ADA, SQL (PL/SQL) od 1\n"
   ]
  },
  {
   "cell_type": "code",
   "execution_count": 27,
   "id": "1b6155e7-e6f0-4c07-8d97-adfa0d7bba1e",
   "metadata": {},
   "outputs": [
    {
     "name": "stdout",
     "output_type": "stream",
     "text": [
      "false\n"
     ]
    }
   ],
   "source": [
    "println(22 in [1, 2, 3])  # true"
   ]
  },
  {
   "cell_type": "code",
   "execution_count": 34,
   "id": "4274ee5f-d54d-4fde-974a-5217fc464005",
   "metadata": {},
   "outputs": [
    {
     "name": "stdout",
     "output_type": "stream",
     "text": [
      "[1, 2, 3, 4, 5, 6]\n",
      "[1, 2, 3, 4, 5]\n"
     ]
    }
   ],
   "source": [
    "pole = [1, 2, 3]\n",
    "push!(pole, 4, 5, 6)\n",
    "println(pole)  # [1, 2, 3, 4]\n",
    "pop!(pole)\n",
    "println(pole)  # [1, 2, 3]"
   ]
  },
  {
   "cell_type": "code",
   "execution_count": 36,
   "id": "50fd9c40-0e32-46df-bb7a-cfa6f91b85c9",
   "metadata": {},
   "outputs": [
    {
     "name": "stdout",
     "output_type": "stream",
     "text": [
      "[1, 2, 3, 4]\n",
      "[4, 3, 2, 1]\n"
     ]
    }
   ],
   "source": [
    "pole = [3, 1, 4, 2]\n",
    "println(sort(pole))           # [1, 2, 3, 4]\n",
    "println(sort(pole, rev=true))  # [4, 3, 2, 1]"
   ]
  },
  {
   "cell_type": "code",
   "execution_count": 37,
   "id": "a68b2ab1-8d72-4e7e-b2a1-409f690329ae",
   "metadata": {},
   "outputs": [
    {
     "data": {
      "text/plain": [
       "NaN"
      ]
     },
     "execution_count": 37,
     "metadata": {},
     "output_type": "execute_result"
    }
   ],
   "source": [
    "0/0"
   ]
  },
  {
   "cell_type": "code",
   "execution_count": 38,
   "id": "0f3c468d-2d46-4195-916d-dbcaed77ae76",
   "metadata": {},
   "outputs": [
    {
     "name": "stdout",
     "output_type": "stream",
     "text": [
      "true\n",
      "false\n"
     ]
    }
   ],
   "source": [
    "println(isnan(0/0))  # true\n",
    "println(isnan(5))    # false"
   ]
  },
  {
   "cell_type": "code",
   "execution_count": 39,
   "id": "b1e85641-26c1-4092-ad18-b2280908971d",
   "metadata": {},
   "outputs": [
    {
     "name": "stdout",
     "output_type": "stream",
     "text": [
      "true\n",
      "false\n"
     ]
    }
   ],
   "source": [
    "println(isfinite(10))      # true\n",
    "println(isfinite(1/0))     # false"
   ]
  },
  {
   "cell_type": "code",
   "execution_count": 40,
   "id": "cacf9349-9dbe-4766-ba38-beef340b6a55",
   "metadata": {},
   "outputs": [
    {
     "data": {
      "text/plain": [
       "Inf"
      ]
     },
     "execution_count": 40,
     "metadata": {},
     "output_type": "execute_result"
    }
   ],
   "source": [
    "5/0"
   ]
  },
  {
   "cell_type": "code",
   "execution_count": 41,
   "id": "6d01a3a8-3bd7-4bcb-93a8-25022333e7d3",
   "metadata": {},
   "outputs": [
    {
     "name": "stdout",
     "output_type": "stream",
     "text": [
      "true\n"
     ]
    }
   ],
   "source": [
    "x = nothing\n",
    "println(isnothing(x))  # true"
   ]
  },
  {
   "cell_type": "code",
   "execution_count": 42,
   "id": "60e5e9de-87e1-4d5b-ad64-a80c84143498",
   "metadata": {},
   "outputs": [
    {
     "name": "stdout",
     "output_type": "stream",
     "text": [
      "3.0\n"
     ]
    }
   ],
   "source": [
    "println(floor(3.7))  # 3.0"
   ]
  },
  {
   "cell_type": "code",
   "execution_count": 43,
   "id": "d9c1e651-2bf7-4088-9c56-3591c8ebdd0e",
   "metadata": {},
   "outputs": [
    {
     "name": "stdout",
     "output_type": "stream",
     "text": [
      "4.0\n"
     ]
    }
   ],
   "source": [
    "println(ceil(3.2))  # 4.0"
   ]
  },
  {
   "cell_type": "code",
   "execution_count": 45,
   "id": "0f70c10c-11ad-4714-876a-4c2705094f64",
   "metadata": {},
   "outputs": [
    {
     "name": "stdout",
     "output_type": "stream",
     "text": [
      "Tuple{Int64, String, Bool}[(1, \"a\", 1), (2, \"b\", 0), (3, \"c\", 1)]\n"
     ]
    }
   ],
   "source": [
    "a = [1, 2, 3]\n",
    "b = [\"a\", \"b\", \"c\"]\n",
    "c = [true, false, true]\n",
    "println(collect(zip(a, b, c)))  # [(1, \"a\"), (2, \"b\"), (3, \"c\")]"
   ]
  },
  {
   "cell_type": "code",
   "execution_count": 47,
   "id": "6fb53143-7497-4c03-9fdb-b21e34293656",
   "metadata": {},
   "outputs": [
    {
     "name": "stdout",
     "output_type": "stream",
     "text": [
      "0\n"
     ]
    }
   ],
   "source": [
    "println(mod(10, 2))  # 1"
   ]
  },
  {
   "cell_type": "code",
   "execution_count": 48,
   "id": "74c48ab4-c6ba-42d4-bbc5-4ff79e3c8028",
   "metadata": {},
   "outputs": [
    {
     "data": {
      "text/plain": [
       "0"
      ]
     },
     "execution_count": 48,
     "metadata": {},
     "output_type": "execute_result"
    }
   ],
   "source": [
    "10 % 2"
   ]
  },
  {
   "cell_type": "code",
   "execution_count": 49,
   "id": "58c7cbf7-1e63-49b9-a6d8-e9823e0d9670",
   "metadata": {},
   "outputs": [
    {
     "name": "stdout",
     "output_type": "stream",
     "text": [
      "2.718281828459045\n"
     ]
    }
   ],
   "source": [
    "println(exp(1))  # 2.718281828459045"
   ]
  },
  {
   "cell_type": "code",
   "execution_count": 50,
   "id": "5e414d04-eb6b-4e97-931c-a0430febceb7",
   "metadata": {},
   "outputs": [
    {
     "name": "stdout",
     "output_type": "stream",
     "text": [
      "0.999896315728952\n"
     ]
    }
   ],
   "source": [
    "println(log(2.718))  # ~1.0"
   ]
  },
  {
   "cell_type": "code",
   "execution_count": 52,
   "id": "0c0142ae-0b1b-4bca-9a5b-58d51c937e0b",
   "metadata": {},
   "outputs": [
    {
     "name": "stdout",
     "output_type": "stream",
     "text": [
      "[4, 39, 20, 1]\n"
     ]
    }
   ],
   "source": [
    "pole = [1, 20, 39, 4]\n",
    "println(reverse(pole))  # [4, 3, 2, 1]"
   ]
  },
  {
   "cell_type": "code",
   "execution_count": 53,
   "id": "73f397a7-d6b8-4e13-9422-bb1789890227",
   "metadata": {},
   "outputs": [
    {
     "name": "stdout",
     "output_type": "stream",
     "text": [
      "Any[1, [2, 3]]\n"
     ]
    }
   ],
   "source": [
    "pole = [1, [2, 3]]\n",
    "kopia = deepcopy(pole)\n",
    "println(kopia)  # [1, [2, 3]]"
   ]
  },
  {
   "cell_type": "code",
   "execution_count": 54,
   "id": "0ca2be81-e262-474b-8c6a-7570bbf049cf",
   "metadata": {},
   "outputs": [
    {
     "name": "stdout",
     "output_type": "stream",
     "text": [
      "42\n",
      "3.5\n"
     ]
    }
   ],
   "source": [
    "println(parse(Int, \"42\"))     # 42\n",
    "println(parse(Float64, \"3.5\"))  # 3.5"
   ]
  },
  {
   "cell_type": "code",
   "execution_count": 56,
   "id": "7464e6fa-c2ce-47e0-972b-fe3fa540ba87",
   "metadata": {},
   "outputs": [
    {
     "name": "stdout",
     "output_type": "stream",
     "text": [
      "5\n",
      "1\n"
     ]
    }
   ],
   "source": [
    "println(clamp(5, 1, 10))  # 5\n",
    "println(clamp(-10, 1, 10)) # 10"
   ]
  },
  {
   "cell_type": "code",
   "execution_count": 57,
   "id": "eb75d609-2f1e-448d-8cb1-97c038009229",
   "metadata": {},
   "outputs": [
    {
     "name": "stdout",
     "output_type": "stream",
     "text": [
      "[1, 3, 6, 10]\n"
     ]
    }
   ],
   "source": [
    "pole = [1, 2, 3, 4]\n",
    "println(cumsum(pole))  # [1, 3, 6, 10]"
   ]
  },
  {
   "cell_type": "code",
   "execution_count": 58,
   "id": "2f9da088-cdb7-4ded-9b51-a56a1229a8d8",
   "metadata": {},
   "outputs": [
    {
     "name": "stdout",
     "output_type": "stream",
     "text": [
      "ahojahojahoj\n",
      "[1, 2, 1, 2]\n"
     ]
    }
   ],
   "source": [
    "println(repeat(\"ahoj\", 3))  # \"ahojahojahoj\"\n",
    "println(repeat([1, 2], 2))  # [1, 2, 1, 2]\n",
    "\n",
    "\n"
   ]
  },
  {
   "cell_type": "code",
   "execution_count": 61,
   "id": "0f1a277d-77d5-49b6-87f8-63460d702d20",
   "metadata": {},
   "outputs": [
    {
     "name": "stdout",
     "output_type": "stream",
     "text": [
      "12\n"
     ]
    },
    {
     "data": {
      "text/plain": [
       "sucet"
      ]
     },
     "execution_count": 61,
     "metadata": {},
     "output_type": "execute_result"
    }
   ],
   "source": [
    "println(sucet(5, 7))  # Výstup: 12\n",
    "\n",
    "\"\"\"\n",
    "Funkcia `sucet(a, b)` vráti súčet dvoch čísel `a` a `b`.\n",
    "Príklad:\n",
    "    sucet(3, 5)  # Vráti 8\n",
    "\"\"\"\n",
    "function sucet(a, b)\n",
    "    return a + b\n",
    "end\n"
   ]
  },
  {
   "cell_type": "code",
   "execution_count": 60,
   "id": "c81e9149-e6fd-4831-b456-57c58a89d668",
   "metadata": {},
   "outputs": [
    {
     "data": {
      "text/plain": [
       "6"
      ]
     },
     "execution_count": 60,
     "metadata": {},
     "output_type": "execute_result"
    }
   ],
   "source": [
    "sucet(9,-3)"
   ]
  },
  {
   "cell_type": "code",
   "execution_count": 64,
   "id": "26570120-cc47-4897-b181-8400b6f8d996",
   "metadata": {},
   "outputs": [
    {
     "name": "stdout",
     "output_type": "stream",
     "text": [
      "-2\n"
     ]
    }
   ],
   "source": [
    "\"\"\"\n",
    "Funkcia `rozdiel(a, b)` vráti súčet dvoch čísel `a` a `b`.\n",
    "Príklad:\n",
    "    rozdiel(3, 5)  # Vráti 8\n",
    "\"\"\"\n",
    "function rozdiel(a, b)\n",
    "    return a - b\n",
    "end\n",
    "\n",
    "println(rozdiel(5, 7))  # Výstup: 12"
   ]
  },
  {
   "cell_type": "code",
   "execution_count": 65,
   "id": "11d8e897-9666-4571-8a53-033b0a0ab555",
   "metadata": {},
   "outputs": [
    {
     "name": "stdout",
     "output_type": "stream",
     "text": [
      "Pre i = 1: 1 je menšie ako 3\n",
      "Pre i = 2: 2 je menšie ako 3\n",
      "Pre i = 3: 3 je rovné 3\n",
      "Pre i = 4: 4 je väčšie ako 3\n",
      "Pre i = 5: 5 je väčšie ako 3\n"
     ]
    }
   ],
   "source": [
    "function rozhodnutie(a, b)\n",
    "    if a > b\n",
    "        return \"$a je väčšie ako $b\"\n",
    "    elseif a == b\n",
    "        return \"$a je rovné $b\"\n",
    "    else\n",
    "        return \"$a je menšie ako $b\"\n",
    "    end\n",
    "end\n",
    "\n",
    "for i in 1:5\n",
    "    println(\"Pre i = $i: \", rozhodnutie(i, 3))\n",
    "end"
   ]
  },
  {
   "cell_type": "code",
   "execution_count": 76,
   "id": "58c0e84a-d5ef-4fbe-bfd6-5df72efca182",
   "metadata": {},
   "outputs": [
    {
     "name": "stdout",
     "output_type": "stream",
     "text": [
      "Ahoj, Júlia False\n"
     ]
    }
   ],
   "source": [
    "function pozdrav(meno::String, pozdrav_kompletne=true)\n",
    "    if pozdrav_kompletne\n",
    "        return \"Ahoj, $meno Vitaj! True\"\n",
    "    else\n",
    "        return \"Ahoj, $meno False\"\n",
    "    end\n",
    "end\n",
    "\n",
    "println(pozdrav(\"Júlia\", false))"
   ]
  },
  {
   "cell_type": "code",
   "execution_count": 80,
   "id": "1457710d-1c31-420d-9eac-c4fff83f33ef",
   "metadata": {},
   "outputs": [
    {
     "name": "stdout",
     "output_type": "stream",
     "text": [
      "(12, 8)\n",
      "Tuple{Int64, Int64}\n",
      "15\n"
     ]
    }
   ],
   "source": [
    "function kalkulacia(a, b)\n",
    "    sucet = a + b\n",
    "    rozdiel = a - b\n",
    "    return sucet, rozdiel\n",
    "end\n",
    "\n",
    "println(kalkulacia(10, 2))\n",
    "println(typeof(kalkulacia(10, 2)))\n",
    "\n",
    "sucet2, rozdiel2 = kalkulacia(10,5)\n",
    "\n",
    "println(sucet2)"
   ]
  },
  {
   "cell_type": "code",
   "execution_count": 86,
   "id": "6cceb7e9-225c-4301-87ca-9ac130aff58b",
   "metadata": {},
   "outputs": [
    {
     "name": "stdout",
     "output_type": "stream",
     "text": [
      "Realne číslo: Inf\n",
      "Reťazec: Julia\n"
     ]
    }
   ],
   "source": [
    "function vypis(x::Int)\n",
    "    println(\"Celé číslo: $x\")\n",
    "end\n",
    "\n",
    "function vypis(x::Float64)\n",
    "    println(\"Realne číslo: $x\")\n",
    "end\n",
    "\n",
    "function vypis(x::String)\n",
    "    println(\"Reťazec: $x\")\n",
    "end\n",
    "\n",
    "vypis(5/0)           # Výstup: Celé číslo: 42\n",
    "vypis(\"Julia\")      # Výstup: Reťazec: Julia\n"
   ]
  },
  {
   "cell_type": "code",
   "execution_count": null,
   "id": "8c5994b0-e26d-4a71-9f27-afe656a7d8dd",
   "metadata": {},
   "outputs": [],
   "source": []
  }
 ],
 "metadata": {
  "kernelspec": {
   "display_name": "Julia 1.11.2",
   "language": "julia",
   "name": "julia-1.11"
  },
  "language_info": {
   "file_extension": ".jl",
   "mimetype": "application/julia",
   "name": "julia",
   "version": "1.11.2"
  }
 },
 "nbformat": 4,
 "nbformat_minor": 5
}
