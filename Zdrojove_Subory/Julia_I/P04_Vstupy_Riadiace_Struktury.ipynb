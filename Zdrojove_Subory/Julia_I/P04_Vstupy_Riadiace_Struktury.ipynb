{
 "cells": [
  {
   "cell_type": "code",
   "execution_count": 1,
   "id": "6e0d1782-5c86-4bb8-a04c-f5d9d65c1639",
   "metadata": {},
   "outputs": [
    {
     "name": "stdout",
     "output_type": "stream",
     "text": [
      "Zadaj svoje meno: \n"
     ]
    },
    {
     "name": "stdin",
     "output_type": "stream",
     "text": [
      "stdin>  Oto\n"
     ]
    },
    {
     "name": "stdout",
     "output_type": "stream",
     "text": [
      "Ahoj, Oto!"
     ]
    }
   ],
   "source": [
    "println(\"Zadaj svoje meno: \")\n",
    "meno = readline()\n",
    "print(\"Ahoj, \", meno, \"!\")"
   ]
  },
  {
   "cell_type": "code",
   "execution_count": 4,
   "id": "de988048-f1d9-4813-b66b-cb36d3b54717",
   "metadata": {},
   "outputs": [
    {
     "name": "stdout",
     "output_type": "stream",
     "text": [
      "Zadaj svoj vek: \n"
     ]
    },
    {
     "name": "stdin",
     "output_type": "stream",
     "text": [
      "stdin>  150\n"
     ]
    },
    {
     "name": "stdout",
     "output_type": "stream",
     "text": [
      "Ahoj mas 150 rokov, aky si typ: Int64"
     ]
    }
   ],
   "source": [
    "println(\"Zadaj svoj vek: \")\n",
    "vstup = readline()\n",
    "vek = parse(Int, vstup)\n",
    "print(\"Ahoj mas \", vek, \" rokov, aky si typ: \", typeof(vek))"
   ]
  },
  {
   "cell_type": "code",
   "execution_count": 7,
   "id": "1999baff-ecfd-4bbc-9ab3-92c668e1a6cc",
   "metadata": {},
   "outputs": [
    {
     "name": "stdout",
     "output_type": "stream",
     "text": [
      "Zadajte svoju mzdu: \n"
     ]
    },
    {
     "name": "stdin",
     "output_type": "stream",
     "text": [
      "stdin>  999.99\n"
     ]
    },
    {
     "name": "stdout",
     "output_type": "stream",
     "text": [
      "Ahoj mas 999.99 mzda, aky si typ: Float64"
     ]
    }
   ],
   "source": [
    "println(\"Zadajte svoju mzdu: \")\n",
    "vstup = readline()\n",
    "mzda = parse(Float64, vstup)\n",
    "print(\"Ahoj mas \", mzda, \" mzda, aky si typ: \", typeof(mzda))"
   ]
  },
  {
   "cell_type": "code",
   "execution_count": 12,
   "id": "a0f5770b-d3d8-4a1f-a296-117562634b5f",
   "metadata": {},
   "outputs": [
    {
     "name": "stdout",
     "output_type": "stream",
     "text": [
      "Zadajte pocet studentov: \n"
     ]
    },
    {
     "name": "stdin",
     "output_type": "stream",
     "text": [
      "stdin>  sdfsdf\n"
     ]
    },
    {
     "name": "stdout",
     "output_type": "stream",
     "text": [
      "Zadali ste neplatnu hodnotu\n"
     ]
    }
   ],
   "source": [
    "println(\"Zadajte pocet studentov: \")\n",
    "try\n",
    "    pocet_studentov = parse(Int, readline())\n",
    "    println(\"Mame dnes: \", pocet_studentov, \" studentov\")\n",
    "catch\n",
    "    println(\"Zadali ste neplatnu hodnotu\")\n",
    "end"
   ]
  },
  {
   "cell_type": "code",
   "execution_count": 13,
   "id": "167241ad-65ad-4eab-a299-a11ed65f83bd",
   "metadata": {},
   "outputs": [
    {
     "name": "stdout",
     "output_type": "stream",
     "text": [
      "Meno: Adam, vek: 35 rokov\n"
     ]
    }
   ],
   "source": [
    "using Printf\n",
    "\n",
    "meno = \"Adam\"\n",
    "vek = 35\n",
    "@printf(\"Meno: %s, vek: %d rokov\\n\", meno, vek)"
   ]
  },
  {
   "cell_type": "markdown",
   "id": "3eeaa728-5042-407d-b3e8-5832e2152b89",
   "metadata": {},
   "source": [
    "# if, elseif, else"
   ]
  },
  {
   "cell_type": "code",
   "execution_count": 18,
   "id": "32d4845a-bec6-45da-a3da-90949f44a846",
   "metadata": {},
   "outputs": [
    {
     "name": "stdout",
     "output_type": "stream",
     "text": [
      "Zadajte svoj vek: \n"
     ]
    },
    {
     "name": "stdin",
     "output_type": "stream",
     "text": [
      "stdin>  32\n"
     ]
    },
    {
     "name": "stdout",
     "output_type": "stream",
     "text": [
      "Som dospely\n",
      "Mam 32 rokov 👍\n"
     ]
    }
   ],
   "source": [
    "println(\"Zadajte svoj vek: \")\n",
    "try\n",
    "    vek_pouzivatel = parse(Int, readline())\n",
    "\n",
    "    if vek < 18\n",
    "        println(\"Si este dieta\")\n",
    "    elseif vek == 18\n",
    "        println(\"Sme prave dosiahli plnoletost\")\n",
    "    else\n",
    "        println(\"Som dospely\")\n",
    "    end\n",
    "    \n",
    "    println(\"Mam \", vek_pouzivatel, \" rokov 👍\")\n",
    "catch\n",
    "    println(\"Zadali ste neplatnu hodnotu\")\n",
    "end"
   ]
  },
  {
   "cell_type": "code",
   "execution_count": 19,
   "id": "db932c2d-ce6d-49cf-b57d-88b1873e8931",
   "metadata": {},
   "outputs": [
    {
     "name": "stdout",
     "output_type": "stream",
     "text": [
      "Tvoja známka je B.\n"
     ]
    }
   ],
   "source": [
    "# and && \n",
    "# or ||\n",
    "# not ! negacia\n",
    "\n",
    "skore = 85\n",
    "\n",
    "if skore >= 90 && skore <= 100\n",
    "    println(\"Tvoja známka je A.\")\n",
    "elseif skore >= 80 && skore < 90\n",
    "    println(\"Tvoja známka je B.\")\n",
    "else\n",
    "    println(\"Musíš sa ešte zlepšiť.\")\n",
    "end\n"
   ]
  },
  {
   "cell_type": "code",
   "execution_count": 21,
   "id": "c515c060-1b18-4fff-9395-52fd8623590d",
   "metadata": {},
   "outputs": [
    {
     "data": {
      "text/plain": [
       "\"Chcem zit nonstop Chcem zit nonstop Chcem zit nonstop Chcem zit nonstop Chcem zit nonstop Chcem zit nonstop Chcem zit nonstop Chcem zit nonstop Chcem zit nonstop Chcem zit nonstop \""
      ]
     },
     "execution_count": 21,
     "metadata": {},
     "output_type": "execute_result"
    }
   ],
   "source": [
    "repeat(\"Chcem zit nonstop \", 10)"
   ]
  },
  {
   "cell_type": "code",
   "execution_count": 22,
   "id": "fbdcbef4-98d7-4c7b-8ad0-ff2602d21cfc",
   "metadata": {},
   "outputs": [
    {
     "data": {
      "text/plain": [
       "15-element Vector{Int64}:\n",
       " 1\n",
       " 2\n",
       " 3\n",
       " 1\n",
       " 2\n",
       " 3\n",
       " 1\n",
       " 2\n",
       " 3\n",
       " 1\n",
       " 2\n",
       " 3\n",
       " 1\n",
       " 2\n",
       " 3"
      ]
     },
     "execution_count": 22,
     "metadata": {},
     "output_type": "execute_result"
    }
   ],
   "source": [
    "vektor = [1,2,3]\n",
    "repeat(vektor, 5)"
   ]
  },
  {
   "cell_type": "code",
   "execution_count": 25,
   "id": "6facc7b9-110b-4b5e-81a3-a445a56270da",
   "metadata": {},
   "outputs": [
    {
     "data": {
      "text/plain": [
       "4×6 Matrix{Int64}:\n",
       " 1  2  1  2  1  2\n",
       " 3  4  3  4  3  4\n",
       " 1  2  1  2  1  2\n",
       " 3  4  3  4  3  4"
      ]
     },
     "execution_count": 25,
     "metadata": {},
     "output_type": "execute_result"
    }
   ],
   "source": [
    "matica = [1 2;3 4]\n",
    "repeat(matica, 2, 3)"
   ]
  },
  {
   "cell_type": "code",
   "execution_count": 28,
   "id": "77ea14da-5456-4fa3-96be-1aad52f7d7e8",
   "metadata": {},
   "outputs": [
    {
     "data": {
      "text/plain": [
       "6-element Vector{Int64}:\n",
       " 1\n",
       " 2\n",
       " 3\n",
       " 1\n",
       " 2\n",
       " 3"
      ]
     },
     "execution_count": 28,
     "metadata": {},
     "output_type": "execute_result"
    }
   ],
   "source": [
    "M = [1, 2, 3 ]\n",
    "repeat(M, 2)"
   ]
  },
  {
   "cell_type": "code",
   "execution_count": 29,
   "id": "60897517-f142-4ab0-bc3b-55cca5def214",
   "metadata": {},
   "outputs": [
    {
     "name": "stdout",
     "output_type": "stream",
     "text": [
      "Toto je opakovanie cisla 1\n",
      "Toto je opakovanie cisla 2\n",
      "Toto je opakovanie cisla 3\n",
      "Toto je opakovanie cisla 4\n",
      "Toto je opakovanie cisla 5\n"
     ]
    }
   ],
   "source": [
    "for i in 1:5\n",
    "    println(\"Toto je opakovanie cisla $i\")\n",
    "end"
   ]
  },
  {
   "cell_type": "code",
   "execution_count": 30,
   "id": "def267c0-e69a-4eae-be83-fce6c4e9ea52",
   "metadata": {},
   "outputs": [
    {
     "name": "stdout",
     "output_type": "stream",
     "text": [
      "1 je nepárne.\n",
      "2 je párne.\n",
      "3 je nepárne.\n",
      "4 je párne.\n",
      "5 je nepárne.\n",
      "6 je párne.\n",
      "7 je nepárne.\n",
      "8 je párne.\n",
      "9 je nepárne.\n",
      "10 je párne.\n"
     ]
    }
   ],
   "source": [
    "for cislo in 1:10\n",
    "    if cislo % 2 == 0\n",
    "        println(\"$cislo je párne.\")\n",
    "    else\n",
    "        println(\"$cislo je nepárne.\")\n",
    "    end\n",
    "end\n"
   ]
  },
  {
   "cell_type": "code",
   "execution_count": 31,
   "id": "9e34c680-0a07-446b-a0e1-2977515c70ca",
   "metadata": {},
   "outputs": [
    {
     "name": "stdout",
     "output_type": "stream",
     "text": [
      "Spracovávam číslo 1.\n",
      "Preskakujem párne číslo 2.\n",
      "Spracovávam číslo 3.\n",
      "Preskakujem párne číslo 4.\n",
      "Prerušenie cyklu na hodnote 5.\n"
     ]
    }
   ],
   "source": [
    "for i in 1:10\n",
    "    if i == 5\n",
    "        println(\"Prerušenie cyklu na hodnote $i.\")\n",
    "        break\n",
    "    elseif i % 2 == 0\n",
    "        println(\"Preskakujem párne číslo $i.\")\n",
    "        continue\n",
    "    end\n",
    "    println(\"Spracovávam číslo $i.\")\n",
    "end\n"
   ]
  },
  {
   "cell_type": "code",
   "execution_count": 36,
   "id": "b342bdc7-941f-413a-8ff1-ddae0490b505",
   "metadata": {},
   "outputs": [
    {
     "ename": "LoadError",
     "evalue": "ParseError:\n\u001b[90m# Error @ \u001b[0;0m\u001b]8;;file://C:/Users/miros/In[36]#5:14\u001b\\\u001b[90mIn[36]:5:14\u001b[0;0m\u001b]8;;\u001b\\\n    println(\"Hodnota počítadla je $pocitadlo\")\n    pocitadlo\u001b[48;2;120;70;70m--\u001b[0;0m\n\u001b[90m#            └┘ ── \u001b[0;0m\u001b[91minvalid operator\u001b[0;0m",
     "output_type": "error",
     "traceback": [
      "ParseError:\n\u001b[90m# Error @ \u001b[0;0m\u001b]8;;file://C:/Users/miros/In[36]#5:14\u001b\\\u001b[90mIn[36]:5:14\u001b[0;0m\u001b]8;;\u001b\\\n    println(\"Hodnota počítadla je $pocitadlo\")\n    pocitadlo\u001b[48;2;120;70;70m--\u001b[0;0m\n\u001b[90m#            └┘ ── \u001b[0;0m\u001b[91minvalid operator\u001b[0;0m",
      "",
      "Stacktrace:",
      " [1] top-level scope",
      "   @ In[36]:5"
     ]
    }
   ],
   "source": [
    "pocitadlo = 1\n",
    "\n",
    "while pocitadlo <= 5\n",
    "    println(\"Hodnota počítadla je $pocitadlo\")\n",
    "    pocitadlo = pocitadlo + 1\n",
    "    pocitadlo += 1\n",
    "    # += -= *= /=\n",
    "end\n"
   ]
  },
  {
   "cell_type": "code",
   "execution_count": 37,
   "id": "886d5d9b-655a-4ada-a79e-c3b9374372e4",
   "metadata": {},
   "outputs": [
    {
     "name": "stderr",
     "output_type": "stream",
     "text": [
      "\u001b[32m\u001b[1m   Resolving\u001b[22m\u001b[39m package versions...\n",
      "\u001b[32m\u001b[1m   Installed\u001b[22m\u001b[39m Match ─ v2.3.0\n",
      "\u001b[32m\u001b[1m    Updating\u001b[22m\u001b[39m `C:\\Users\\miros\\.julia\\environments\\v1.11\\Project.toml`\n",
      "  \u001b[90m[7eb4fadd] \u001b[39m\u001b[92m+ Match v2.3.0\u001b[39m\n",
      "\u001b[32m\u001b[1m    Updating\u001b[22m\u001b[39m `C:\\Users\\miros\\.julia\\environments\\v1.11\\Manifest.toml`\n",
      "  \u001b[90m[1914dd2f] \u001b[39m\u001b[92m+ MacroTools v0.5.13\u001b[39m\n",
      "  \u001b[90m[7eb4fadd] \u001b[39m\u001b[92m+ Match v2.3.0\u001b[39m\n",
      "  \u001b[90m[bac558e1] \u001b[39m\u001b[92m+ OrderedCollections v1.7.0\u001b[39m\n",
      "\u001b[92m\u001b[1mPrecompiling\u001b[22m\u001b[39m project...\n",
      "    715.0 ms\u001b[32m  ✓ \u001b[39m\u001b[90mOrderedCollections\u001b[39m\n",
      "   1885.9 ms\u001b[32m  ✓ \u001b[39m\u001b[90mMacroTools\u001b[39m\n",
      "    598.5 ms\u001b[32m  ✓ \u001b[39mMatch\n",
      "  3 dependencies successfully precompiled in 3 seconds. 43 already precompiled.\n"
     ]
    }
   ],
   "source": [
    "using Pkg\n",
    "Pkg.add(\"Match\")\n"
   ]
  },
  {
   "cell_type": "code",
   "execution_count": 40,
   "id": "776432a7-af79-4966-9b58-9b8816c4995e",
   "metadata": {},
   "outputs": [
    {
     "name": "stdout",
     "output_type": "stream",
     "text": [
      "Neznáme ovocie.\n"
     ]
    }
   ],
   "source": [
    "using Match\n",
    "\n",
    "ovocie = \"xxxx\"\n",
    "\n",
    "@match ovocie begin\n",
    "    \"jablko\" => println(\"Máš rád jablká.\")\n",
    "    \"banán\" => println(\"Máš rád banány.\")\n",
    "    \"hruška\" => println(\"Máš rád hrušky.\")\n",
    "    _        => println(\"Neznáme ovocie.\")  # Default case\n",
    "end\n"
   ]
  },
  {
   "cell_type": "code",
   "execution_count": null,
   "id": "60b93f25-2075-4cba-9277-0eae49048f4b",
   "metadata": {},
   "outputs": [],
   "source": [
    "ovocie = \"banán\"\n",
    "\n",
    "# Vytvorenie slovníka s prípadmi\n",
    "switch_dict = Dict(\n",
    "    \"jablko\" => \"Máš rád jablká.\",\n",
    "    \"banán\" => \"Máš rád banány.\",\n",
    "    \"hruška\" => \"Máš rád hrušky.\"\n",
    ")\n",
    "\n",
    "# Získanie výsledku s predvolenou hodnotou\n",
    "println(get(switch_dict, ovocie, \"Neznáme ovocie.\"))\n"
   ]
  }
 ],
 "metadata": {
  "kernelspec": {
   "display_name": "Julia 1.11.2",
   "language": "julia",
   "name": "julia-1.11"
  },
  "language_info": {
   "file_extension": ".jl",
   "mimetype": "application/julia",
   "name": "julia",
   "version": "1.11.2"
  }
 },
 "nbformat": 4,
 "nbformat_minor": 5
}
