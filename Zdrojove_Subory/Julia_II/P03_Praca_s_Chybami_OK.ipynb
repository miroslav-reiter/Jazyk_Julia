{
 "cells": [
  {
   "cell_type": "markdown",
   "id": "b3ec6020-84e1-4362-acec-17657467ca96",
   "metadata": {},
   "source": [
    "# 🚨 Práca s chybami a výnimkami\n",
    "Julia má množstvo zabudovaných výnimiek, ktoré signalizujú chyby v programe.\n"
   ]
  },
  {
   "cell_type": "markdown",
   "id": "f710b61f-427a-496f-a12d-f822c8d5b982",
   "metadata": {},
   "source": [
    "## 1️⃣ Najčastejšie zabudované výnimky v jazyku Julia\n",
    "1️⃣ ArgumentError – nesprávne argumenty vo funkcii.  \n",
    "2️⃣ BoundsError – index mimo platného rozsahu pri prístupe k poľu.  \n",
    "3️⃣ DomainError – neplatný vstup pre matematickú funkciu.  \n",
    "4️⃣ DivideError – pokus o delenie nulou.  \n",
    "5️⃣ InexactError – nepresná konverzia čísla, napr. Int(3.5).  \n",
    "6️⃣ KeyError – chýbajúci kľúč v Dict.  \n",
    "7️⃣ MethodError – volanie neexistujúcej metódy s danými argumentmi.  \n",
    "8️⃣ OverflowError – pretečenie čísla pri aritmetických operáciách.  \n",
    "9️⃣ StackOverflowError – nekonečná rekurzia spôsobujúca preplnenie zásobníka.  \n",
    "🔟 UndefVarError – pokus o použitie nedefinovanej premennej.  \n",
    "\n",
    "1️⃣1️⃣ UndefRefError – prístup k neinicializovanej referencii.  \n",
    "1️⃣2️⃣ TypeError – nekompatibilné typy v operácii alebo funkcii.  \n",
    "1️⃣3️⃣ LoadError – chyba pri načítaní súboru cez include().  \n",
    "1️⃣4️⃣ SystemError – chyba operačného systému (napr. pri práci so súbormi).  \n",
    "1️⃣5️⃣ InterruptException – program bol prerušený používateľom (Ctrl+C).  \n",
    "1️⃣6️⃣ EOFError – nečakaný koniec súboru pri čítaní.  \n",
    "1️⃣7️⃣ AssertionError – podmienka @assert zlyhala.  \n",
    "1️⃣8️⃣ ArgumentOutOfDomainError – špeciálny variant DomainError.  \n",
    "1️⃣9️⃣ RemoteException – chyba pri vzdialenom volaní v distribuovanom výpočte.  \n",
    "2️⃣0️⃣ ProcessFailedException – spustený proces skončil s chybovým kódom.  "
   ]
  },
  {
   "cell_type": "markdown",
   "id": "9bfb6816-ea09-4f9c-82ac-05cd4d7c2039",
   "metadata": {},
   "source": [
    "### 1️⃣ ArgumentError – nesprávne argumenty vo funkcii"
   ]
  },
  {
   "cell_type": "code",
   "execution_count": 6,
   "id": "b59b97b7-7e98-4546-82fb-4a61ac6e3ae8",
   "metadata": {},
   "outputs": [
    {
     "ename": "LoadError",
     "evalue": "ArgumentError: Hodnota musí byť kladná!",
     "output_type": "error",
     "traceback": [
      "ArgumentError: Hodnota musí byť kladná!",
      "",
      "Stacktrace:",
      " [1] check_positive(x::Int64)",
      "   @ Main .\\In[6]:4",
      " [2] top-level scope",
      "   @ In[6]:9"
     ]
    }
   ],
   "source": [
    "# ArgumentError – nesprávne argumenty vo funkcii\n",
    "function check_positive(x)\n",
    "    if x < 0\n",
    "        throw(ArgumentError(\"Hodnota musí byť kladná!\"))\n",
    "    end\n",
    "    return x\n",
    "end\n",
    "\n",
    "check_positive(-5)  # Chyba: ArgumentError"
   ]
  },
  {
   "cell_type": "markdown",
   "id": "49276fd0-07bc-4973-be0c-71ffc76bfdf2",
   "metadata": {},
   "source": [
    "### 2️⃣ BoundsError – index mimo platného rozsahu pri prístupe k poľu"
   ]
  },
  {
   "cell_type": "code",
   "execution_count": 7,
   "id": "5208e588-6933-4965-a4f7-4a2b3c8d611f",
   "metadata": {},
   "outputs": [
    {
     "ename": "LoadError",
     "evalue": "BoundsError: attempt to access 3-element Vector{Int64} at index [5]",
     "output_type": "error",
     "traceback": [
      "BoundsError: attempt to access 3-element Vector{Int64} at index [5]",
      "",
      "Stacktrace:",
      " [1] throw_boundserror(A::Vector{Int64}, I::Tuple{Int64})",
      "   @ Base .\\essentials.jl:14",
      " [2] getindex(A::Vector{Int64}, i::Int64)",
      "   @ Base .\\essentials.jl:916",
      " [3] top-level scope",
      "   @ In[7]:3"
     ]
    }
   ],
   "source": [
    "# 2️⃣ BoundsError – index mimo platného rozsahu pri prístupe k poľu\n",
    "arr = [1, 2, 3]\n",
    "println(arr[5])  # Chyba: BoundsError"
   ]
  },
  {
   "cell_type": "markdown",
   "id": "4f5c53a9-2cdc-4755-9b71-81a4b5354e20",
   "metadata": {},
   "source": [
    "### 3️⃣ DomainError – neplatný vstup pre matematickú funkciu"
   ]
  },
  {
   "cell_type": "code",
   "execution_count": 8,
   "id": "bd33b210-16ed-4e9e-9dec-0a64f79801cd",
   "metadata": {},
   "outputs": [
    {
     "ename": "LoadError",
     "evalue": "DomainError with -1.0:\nsqrt was called with a negative real argument but will only return a complex result if called with a complex argument. Try sqrt(Complex(x)).",
     "output_type": "error",
     "traceback": [
      "DomainError with -1.0:\nsqrt was called with a negative real argument but will only return a complex result if called with a complex argument. Try sqrt(Complex(x)).",
      "",
      "Stacktrace:",
      " [1] throw_complex_domainerror(f::Symbol, x::Float64)",
      "   @ Base.Math .\\math.jl:33",
      " [2] sqrt",
      "   @ .\\math.jl:608 [inlined]",
      " [3] sqrt(x::Int64)",
      "   @ Base.Math .\\math.jl:1531",
      " [4] top-level scope",
      "   @ In[8]:2"
     ]
    }
   ],
   "source": [
    "# 3️⃣ DomainError – neplatný vstup pre matematickú funkciu\n",
    "sqrt(-1)  # Chyba: DomainError"
   ]
  },
  {
   "cell_type": "markdown",
   "id": "23556f0f-6084-441f-8aa4-2565fbcd00c9",
   "metadata": {},
   "source": [
    "### 4️⃣ DivideError – pokus o delenie nulou"
   ]
  },
  {
   "cell_type": "code",
   "execution_count": 9,
   "id": "5c2af80c-614e-4c5e-8bb2-deb131bd8436",
   "metadata": {},
   "outputs": [
    {
     "ename": "LoadError",
     "evalue": "DivideError: integer division error",
     "output_type": "error",
     "traceback": [
      "DivideError: integer division error",
      "",
      "Stacktrace:",
      " [1] div(x::Int64, y::Int64)",
      "   @ Base .\\int.jl:295",
      " [2] top-level scope",
      "   @ In[9]:2"
     ]
    }
   ],
   "source": [
    "# 4️⃣ DivideError – pokus o delenie nulou\n",
    "println(10 ÷ 0)  # Chyba: DivideError"
   ]
  },
  {
   "cell_type": "markdown",
   "id": "caf68af4-6b85-4e33-bc12-e10363cf93d3",
   "metadata": {},
   "source": [
    "### 6️⃣ KeyError – chýbajúci kľúč v Dict"
   ]
  },
  {
   "cell_type": "code",
   "execution_count": 10,
   "id": "3aab035f-3bed-4b5d-a040-81822bf20c99",
   "metadata": {},
   "outputs": [
    {
     "ename": "LoadError",
     "evalue": "KeyError: key \"c\" not found",
     "output_type": "error",
     "traceback": [
      "KeyError: key \"c\" not found",
      "",
      "Stacktrace:",
      " [1] getindex(h::Dict{String, Int64}, key::String)",
      "   @ Base .\\dict.jl:477",
      " [2] top-level scope",
      "   @ In[10]:3"
     ]
    }
   ],
   "source": [
    "# 6️⃣ KeyError – chýbajúci kľúč v Dict\n",
    "d = Dict(\"a\" => 1, \"b\" => 2)\n",
    "println(d[\"c\"])  # Chyba: KeyError"
   ]
  },
  {
   "cell_type": "markdown",
   "id": "0b53b015-7ac9-4470-99d1-f8ba56d01860",
   "metadata": {},
   "source": [
    "### 7️⃣ MethodError – volanie neexistujúcej metódy s danými argumentmi"
   ]
  },
  {
   "cell_type": "code",
   "execution_count": 11,
   "id": "5c1f61ae-498f-4bf9-9e3b-7fb663483677",
   "metadata": {},
   "outputs": [
    {
     "ename": "LoadError",
     "evalue": "MethodError: no method matching +(::String, ::Int64)\nThe function `+` exists, but no method is defined for this combination of argument types.\n\n\u001b[0mClosest candidates are:\n\u001b[0m  +(::Any, ::Any, \u001b[91m::Any\u001b[39m, \u001b[91m::Any...\u001b[39m)\n\u001b[0m\u001b[90m   @\u001b[39m \u001b[90mBase\u001b[39m \u001b[90m\u001b[4moperators.jl:596\u001b[24m\u001b[39m\n\u001b[0m  +(\u001b[91m::Base.CoreLogging.LogLevel\u001b[39m, ::Integer)\n\u001b[0m\u001b[90m   @\u001b[39m \u001b[90mBase\u001b[39m \u001b[90mlogging\\\u001b[39m\u001b[90m\u001b[4mlogging.jl:132\u001b[24m\u001b[39m\n\u001b[0m  +(\u001b[91m::Complex{Bool}\u001b[39m, ::Real)\n\u001b[0m\u001b[90m   @\u001b[39m \u001b[90mBase\u001b[39m \u001b[90m\u001b[4mcomplex.jl:323\u001b[24m\u001b[39m\n\u001b[0m  ...\n",
     "output_type": "error",
     "traceback": [
      "MethodError: no method matching +(::String, ::Int64)\nThe function `+` exists, but no method is defined for this combination of argument types.\n\n\u001b[0mClosest candidates are:\n\u001b[0m  +(::Any, ::Any, \u001b[91m::Any\u001b[39m, \u001b[91m::Any...\u001b[39m)\n\u001b[0m\u001b[90m   @\u001b[39m \u001b[90mBase\u001b[39m \u001b[90m\u001b[4moperators.jl:596\u001b[24m\u001b[39m\n\u001b[0m  +(\u001b[91m::Base.CoreLogging.LogLevel\u001b[39m, ::Integer)\n\u001b[0m\u001b[90m   @\u001b[39m \u001b[90mBase\u001b[39m \u001b[90mlogging\\\u001b[39m\u001b[90m\u001b[4mlogging.jl:132\u001b[24m\u001b[39m\n\u001b[0m  +(\u001b[91m::Complex{Bool}\u001b[39m, ::Real)\n\u001b[0m\u001b[90m   @\u001b[39m \u001b[90mBase\u001b[39m \u001b[90m\u001b[4mcomplex.jl:323\u001b[24m\u001b[39m\n\u001b[0m  ...\n",
      "",
      "Stacktrace:",
      " [1] top-level scope",
      "   @ In[11]:2"
     ]
    }
   ],
   "source": [
    "# 7️⃣ MethodError – volanie neexistujúcej metódy s danými argumentmi\n",
    "println(\"text\" + 5)  # Chyba: MethodError"
   ]
  },
  {
   "cell_type": "markdown",
   "id": "984e81b6-f111-42a2-9d67-8c0d70005e58",
   "metadata": {},
   "source": [
    "### 8️⃣ OverflowError – pretečenie čísla pri aritmetických operáciách"
   ]
  },
  {
   "cell_type": "code",
   "execution_count": 12,
   "id": "d4caa282-dead-48ef-8ae6-01b2a3e74bd3",
   "metadata": {},
   "outputs": [
    {
     "ename": "LoadError",
     "evalue": "InexactError: trunc(Int8, 128)",
     "output_type": "error",
     "traceback": [
      "InexactError: trunc(Int8, 128)",
      "",
      "Stacktrace:",
      " [1] throw_inexacterror(::Symbol, ::Vararg{Any})",
      "   @ Core .\\boot.jl:750",
      " [2] checked_trunc_sint",
      "   @ .\\boot.jl:764 [inlined]",
      " [3] toInt8",
      "   @ .\\boot.jl:779 [inlined]",
      " [4] Int8(x::Int64)",
      "   @ Core .\\boot.jl:889",
      " [5] top-level scope",
      "   @ In[12]:2"
     ]
    }
   ],
   "source": [
    "# 8️⃣ OverflowError – pretečenie čísla pri aritmetických operáciách\n",
    "println(Int8(128))  # Chyba: OverflowError"
   ]
  },
  {
   "cell_type": "markdown",
   "id": "8d1a9a39-f9db-4cc6-ac0c-1c2963015db4",
   "metadata": {},
   "source": [
    "### 9️⃣ StackOverflowError – nekonečná rekurzia spôsobujúca preplnenie zásobníka"
   ]
  },
  {
   "cell_type": "code",
   "execution_count": 13,
   "id": "78e4c7bb-1542-4f90-8c5b-f5f39f3f96e6",
   "metadata": {},
   "outputs": [
    {
     "ename": "LoadError",
     "evalue": "StackOverflowError:",
     "output_type": "error",
     "traceback": [
      "StackOverflowError:",
      "",
      "Stacktrace:",
      " [1] nekonecna_rekurzia() (repeats 79984 times)",
      "   @ Main .\\In[13]:3"
     ]
    }
   ],
   "source": [
    "# 9️⃣ StackOverflowError – nekonečná rekurzia spôsobujúca preplnenie zásobníka\n",
    "function nekonecna_rekurzia()\n",
    "    nekonecna_rekurzia()\n",
    "end\n",
    "\n",
    "nekonecna_rekurzia()  # Chyba: StackOverflowError"
   ]
  },
  {
   "cell_type": "markdown",
   "id": "a2ce799a-c931-4df1-9ffc-068a0f30a12d",
   "metadata": {},
   "source": [
    "### 🔟 UndefVarError – pokus o použitie nedefinovanej premennej"
   ]
  },
  {
   "cell_type": "code",
   "execution_count": 14,
   "id": "8e7d6b29-59a9-4d11-a9d1-ded71455fad2",
   "metadata": {},
   "outputs": [
    {
     "ename": "LoadError",
     "evalue": "UndefVarError: `x` not defined in `Main`\nSuggestion: check for spelling errors or missing imports.",
     "output_type": "error",
     "traceback": [
      "UndefVarError: `x` not defined in `Main`\nSuggestion: check for spelling errors or missing imports.",
      "",
      "Stacktrace:",
      " [1] top-level scope",
      "   @ In[14]:2"
     ]
    }
   ],
   "source": [
    "# 🔟 UndefVarError – pokus o použitie nedefinovanej premennej\n",
    "println(x)  # Chyba: UndefVarError"
   ]
  },
  {
   "cell_type": "markdown",
   "id": "b4497f17-3c8c-4a2a-8937-4983750e6279",
   "metadata": {},
   "source": [
    "## 2️⃣ Ošetrenie výnimiek pomocou try-catch"
   ]
  },
  {
   "cell_type": "code",
   "execution_count": 2,
   "id": "0eec482d-e3ba-4f03-af65-d2336e6ca2f4",
   "metadata": {},
   "outputs": [
    {
     "name": "stdout",
     "output_type": "stream",
     "text": [
      "5.0\n",
      "Inf\n"
     ]
    }
   ],
   "source": [
    "function delenie(a, b)\n",
    "    try\n",
    "        return a / b\n",
    "    catch e\n",
    "        println(\"Chyba: \", e)\n",
    "        return NaN  # Nedefinovaná hodnota pre chybu\n",
    "    end\n",
    "end\n",
    "\n",
    "println(delenie(10, 2))  # Výstup: 5.0\n",
    "println(delenie(10, 0))  # Výstup: Chyba: DivideError()"
   ]
  },
  {
   "cell_type": "markdown",
   "id": "518882df-15c3-44f3-8e37-516bf3426009",
   "metadata": {},
   "source": [
    "## 3️⃣ Použitie finally\n",
    "- Blok finally sa vykoná vždy, bez ohľadu na to, či došlo k výnimke"
   ]
  },
  {
   "cell_type": "code",
   "execution_count": 1,
   "id": "a5d5648e-e3de-47ca-b51d-d8f5aae760e8",
   "metadata": {},
   "outputs": [
    {
     "name": "stdout",
     "output_type": "stream",
     "text": [
      "5.0\n",
      "Inf\n"
     ]
    }
   ],
   "source": [
    "function citanie_suboru()\n",
    "    f = open(\"subor.txt\", \"r\")\n",
    "    try\n",
    "        obsah = read(f, String)\n",
    "        println(obsah)\n",
    "    catch e\n",
    "        println(\"Chyba pri čítaní súboru: \", e)\n",
    "    finally\n",
    "        close(f)  # Uistíme sa, že súbor je zatvorený\n",
    "    end\n",
    "end\n"
   ]
  },
  {
   "cell_type": "markdown",
   "id": "41aa681c-3bf1-4a6a-b38a-67d2ba76c299",
   "metadata": {},
   "source": [
    "## 4️⃣ Vlastné výnimky\n",
    "- Ak potrebujeme definovať vlastnú výnimku, môžeme ju vytvoriť pomocou throw a error"
   ]
  },
  {
   "cell_type": "code",
   "execution_count": 3,
   "id": "6fd38bb5-e5d5-49b0-8cad-f391b8723bdc",
   "metadata": {},
   "outputs": [
    {
     "name": "stdout",
     "output_type": "stream",
     "text": [
      "3.0\n"
     ]
    },
    {
     "ename": "LoadError",
     "evalue": "DomainError with -4:\nHodnota musí byť nezáporná",
     "output_type": "error",
     "traceback": [
      "DomainError with -4:\nHodnota musí byť nezáporná",
      "",
      "Stacktrace:",
      " [1] kontrola_vstupu(x::Int64)",
      "   @ Main .\\In[3]:3",
      " [2] top-level scope",
      "   @ In[3]:9"
     ]
    }
   ],
   "source": [
    "function kontrola_vstupu(x)\n",
    "    if x < 0\n",
    "        throw(DomainError(x, \"Hodnota musí byť kladná/nezáporná\"))\n",
    "    end\n",
    "    return sqrt(x)\n",
    "end\n",
    "\n",
    "println(kontrola_vstupu(9))   # Výstup: 3.0\n",
    "println(kontrola_vstupu(-4))  # Chyba: DomainError s popisom"
   ]
  },
  {
   "cell_type": "markdown",
   "id": "f423e0be-9a46-464c-83ab-e6e0ee72b21d",
   "metadata": {},
   "source": [
    "## 5️⃣ Použitie @assert na overenie podmienok\n",
    "- Ak chceme zabezpečiť, že podmienka platí, môžeme použiť @assert"
   ]
  },
  {
   "cell_type": "code",
   "execution_count": 4,
   "id": "1c5a57a3-19c4-4160-9e18-53ea820663c2",
   "metadata": {},
   "outputs": [
    {
     "name": "stdout",
     "output_type": "stream",
     "text": [
      "4.0\n"
     ]
    },
    {
     "ename": "LoadError",
     "evalue": "AssertionError: Vstup musí byť nezáporný!",
     "output_type": "error",
     "traceback": [
      "AssertionError: Vstup musí byť nezáporný!",
      "",
      "Stacktrace:",
      " [1] vypocet(x::Int64)",
      "   @ Main .\\In[4]:2",
      " [2] top-level scope",
      "   @ In[4]:7"
     ]
    }
   ],
   "source": [
    "function vypocet(x)\n",
    "    @assert x ≥ 0 \"Vstup musí byť kladný/nezáporný!\"\n",
    "    return sqrt(x)\n",
    "end\n",
    "\n",
    "println(vypocet(16))  # Výstup: 4.0\n",
    "println(vypocet(-1))  # Chyba: AssertionError: Vstup musí byť kladný/nezáporný!"
   ]
  },
  {
   "cell_type": "markdown",
   "id": "1925db3c-f7ba-498e-a07f-b6e9422f6ef0",
   "metadata": {},
   "source": [
    "## 6️⃣ Použitie Base.catch_stack pre diagnostiku\n",
    "- Ak chceme zistiť celý zásobník volaní pri chybe:"
   ]
  },
  {
   "cell_type": "code",
   "execution_count": 5,
   "id": "645428c8-59fc-48f3-8f62-dd546969cacd",
   "metadata": {},
   "outputs": [
    {
     "name": "stdout",
     "output_type": "stream",
     "text": [
      "Inf\n"
     ]
    }
   ],
   "source": [
    "try\n",
    "    println(1 / 0)\n",
    "catch e\n",
    "    println(\"Chyba: \", e)\n",
    "    println(\"Zásobník volaní: \", stacktrace(catch_stack()))\n",
    "end\n"
   ]
  },
  {
   "cell_type": "code",
   "execution_count": null,
   "id": "5e570e5b-4d8c-40d3-859e-ffa9e5cbad4d",
   "metadata": {},
   "outputs": [],
   "source": []
  }
 ],
 "metadata": {
  "kernelspec": {
   "display_name": "Julia 1.11.2",
   "language": "julia",
   "name": "julia-1.11"
  },
  "language_info": {
   "file_extension": ".jl",
   "mimetype": "application/julia",
   "name": "julia",
   "version": "1.11.2"
  }
 },
 "nbformat": 4,
 "nbformat_minor": 5
}
