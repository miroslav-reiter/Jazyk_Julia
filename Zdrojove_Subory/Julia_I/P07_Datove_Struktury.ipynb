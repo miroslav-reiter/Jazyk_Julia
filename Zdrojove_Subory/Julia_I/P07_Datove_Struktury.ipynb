{
 "cells": [
  {
   "cell_type": "code",
   "execution_count": 1,
   "id": "a47cfcde-7949-41fd-9291-2ca96788a277",
   "metadata": {},
   "outputs": [
    {
     "name": "stdout",
     "output_type": "stream",
     "text": [
      "[1, 42, 3]\n"
     ]
    }
   ],
   "source": [
    "# Vytvorenie poľa\n",
    "pole = [1, 2, 3]\n",
    "\n",
    "# Zmena hodnoty na indexe 2\n",
    "pole[2] = 42\n",
    "\n",
    "println(pole)  # Výstup: [1, 42, 3]\n"
   ]
  },
  {
   "cell_type": "code",
   "execution_count": 2,
   "id": "d425eac1-4853-42b3-b109-91bce139ad5d",
   "metadata": {},
   "outputs": [
    {
     "ename": "LoadError",
     "evalue": "MethodError: no method matching setindex!(::Tuple{Int64, Int64, Int64}, ::Int64, ::Int64)\nThe function `setindex!` exists, but no method is defined for this combination of argument types.",
     "output_type": "error",
     "traceback": [
      "MethodError: no method matching setindex!(::Tuple{Int64, Int64, Int64}, ::Int64, ::Int64)\nThe function `setindex!` exists, but no method is defined for this combination of argument types.",
      "",
      "Stacktrace:",
      " [1] top-level scope",
      "   @ In[2]:5"
     ]
    }
   ],
   "source": [
    "# Vytvorenie tuple\n",
    "tuple = (1, 2, 3)\n",
    "\n",
    "# Pokus o zmenu hodnoty spôsobí chybu\n",
    "tuple[2] = 42  # Chyba: MethodError: no method matching setindex!\n"
   ]
  },
  {
   "cell_type": "code",
   "execution_count": 3,
   "id": "9dea33a0-32d2-4002-b396-01210b06f93c",
   "metadata": {},
   "outputs": [
    {
     "name": "stdout",
     "output_type": "stream",
     "text": [
      "Pôvodná matica:\n",
      "[1 2; 3 4]\n",
      "Transponovaná matica:\n",
      "[1 3; 2 4]\n"
     ]
    }
   ],
   "source": [
    "# Vytvorenie matice a jej operácie\n",
    "matica = [1 2; 3 4]\n",
    "matica_transponovana = transpose(matica)\n",
    "println(\"Pôvodná matica:\\n\", matica)\n",
    "println(\"Transponovaná matica:\\n\", matica_transponovana)"
   ]
  },
  {
   "cell_type": "code",
   "execution_count": 4,
   "id": "a73c4dd3-21fb-4987-9196-f8944e3f5d46",
   "metadata": {},
   "outputs": [
    {
     "ename": "LoadError",
     "evalue": "SingularException(3)",
     "output_type": "error",
     "traceback": [
      "SingularException(3)",
      "",
      "Stacktrace:",
      "  [1] checknonsingular",
      "    @ C:\\Users\\miros\\AppData\\Local\\Programs\\Julia-1.11.2\\share\\julia\\stdlib\\v1.11\\LinearAlgebra\\src\\factorization.jl:69 [inlined]",
      "  [2] _check_lu_success",
      "    @ C:\\Users\\miros\\AppData\\Local\\Programs\\Julia-1.11.2\\share\\julia\\stdlib\\v1.11\\LinearAlgebra\\src\\lu.jl:84 [inlined]",
      "  [3] #lu!#182",
      "    @ C:\\Users\\miros\\AppData\\Local\\Programs\\Julia-1.11.2\\share\\julia\\stdlib\\v1.11\\LinearAlgebra\\src\\lu.jl:92 [inlined]",
      "  [4] lu!",
      "    @ C:\\Users\\miros\\AppData\\Local\\Programs\\Julia-1.11.2\\share\\julia\\stdlib\\v1.11\\LinearAlgebra\\src\\lu.jl:90 [inlined]",
      "  [5] lu!",
      "    @ C:\\Users\\miros\\AppData\\Local\\Programs\\Julia-1.11.2\\share\\julia\\stdlib\\v1.11\\LinearAlgebra\\src\\lu.jl:89 [inlined]",
      "  [6] _lu",
      "    @ C:\\Users\\miros\\AppData\\Local\\Programs\\Julia-1.11.2\\share\\julia\\stdlib\\v1.11\\LinearAlgebra\\src\\lu.jl:347 [inlined]",
      "  [7] lu(::Matrix{Int64}; kwargs::@Kwargs{})",
      "    @ LinearAlgebra C:\\Users\\miros\\AppData\\Local\\Programs\\Julia-1.11.2\\share\\julia\\stdlib\\v1.11\\LinearAlgebra\\src\\lu.jl:341",
      "  [8] lu",
      "    @ C:\\Users\\miros\\AppData\\Local\\Programs\\Julia-1.11.2\\share\\julia\\stdlib\\v1.11\\LinearAlgebra\\src\\lu.jl:341 [inlined]",
      "  [9] inv(A::Matrix{Int64})",
      "    @ LinearAlgebra C:\\Users\\miros\\AppData\\Local\\Programs\\Julia-1.11.2\\share\\julia\\stdlib\\v1.11\\LinearAlgebra\\src\\dense.jl:993",
      " [10] top-level scope",
      "    @ In[4]:4"
     ]
    }
   ],
   "source": [
    "using LinearAlgebra\n",
    "\n",
    "matica = [1 2 3; 4 5 6; 7 8 9]\n",
    "println(\"Inverzná matica:\", inv(matica))"
   ]
  },
  {
   "cell_type": "code",
   "execution_count": 7,
   "id": "cc9b1c46-3c37-4667-9eff-d56d101e5206",
   "metadata": {},
   "outputs": [
    {
     "name": "stdout",
     "output_type": "stream",
     "text": [
      "Súčet matíc: \n",
      "[2 4 6; 8 10 12; 14 16 18]\n",
      "Skalárny produkt matíc: \n",
      "[14 32 50; 32 77 122; 50 122 194]\n",
      "\n",
      "matica \n",
      "[1 2 3; 4 5 6; 7 8 9]\n",
      "matica' \n",
      "[1 4 7; 2 5 8; 3 6 9]\n"
     ]
    }
   ],
   "source": [
    "# Vytvorenie a manipulácia s maticami\n",
    "matica = [1 2 3; 4 5 6; 7 8 9]\n",
    "\n",
    "vektor = [1, 2, 3]\n",
    "\n",
    "# Matematické operácie\n",
    "suma = matica + matica  # Sčítanie matíc\n",
    "produkt = matica * matica'  # Násobenie matice s jej transponovanou verziou\n",
    "\n",
    "println(\"Súčet matíc: \\n\", suma)\n",
    "println(\"Skalárny produkt matíc: \\n\", produkt)\n",
    "\n",
    "println(\"\\nmatica \\n\", matica)\n",
    "println(\"matica' \\n\", matica')"
   ]
  },
  {
   "cell_type": "code",
   "execution_count": 11,
   "id": "6e2fef7e-5621-4c91-96ff-55541075aefb",
   "metadata": {},
   "outputs": [
    {
     "name": "stdout",
     "output_type": "stream",
     "text": [
      "Maximálny prvok: 10\n",
      "Minimálny prvok: 1\n",
      "Počet prvkov: 10\n",
      "Suma poľa: 55\n",
      "Párne čísla: [2, 4, 6, 8, 10]\n",
      "Transformované pole (x^2): [1, 4, 9, 16, 25, 36, 49, 64, 81, 100]\n"
     ]
    }
   ],
   "source": [
    "# Operácie s poľami - štatistika a transformácia\n",
    "pole = [1, 2, 3, 4, 5, 6, 7, 8, 9, 10]\n",
    "println(\"Maximálny prvok: \", maximum(pole))\n",
    "println(\"Minimálny prvok: \", minimum(pole))\n",
    "println(\"Počet prvkov: \", length(pole))\n",
    "println(\"Suma poľa: \", sum(pole))\n",
    "\n",
    "filtrované_pole = filter(x -> x % 2 == 0, pole)\n",
    "transformované_pole = map(x -> x^2, pole)\n",
    "println(\"Párne čísla: \", filtrované_pole)\n",
    "println(\"Transformované pole (x^2): \", transformované_pole)"
   ]
  },
  {
   "cell_type": "code",
   "execution_count": null,
   "id": "29413d42-d035-426f-ad09-064660856470",
   "metadata": {},
   "outputs": [],
   "source": []
  }
 ],
 "metadata": {
  "kernelspec": {
   "display_name": "Julia 1.11.2",
   "language": "julia",
   "name": "julia-1.11"
  },
  "language_info": {
   "file_extension": ".jl",
   "mimetype": "application/julia",
   "name": "julia",
   "version": "1.11.2"
  }
 },
 "nbformat": 4,
 "nbformat_minor": 5
}
