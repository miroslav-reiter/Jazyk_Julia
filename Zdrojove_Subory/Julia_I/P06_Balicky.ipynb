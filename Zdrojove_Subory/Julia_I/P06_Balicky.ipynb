{
 "cells": [
  {
   "cell_type": "code",
   "execution_count": 1,
   "id": "e51a7cd7-d5cf-4246-81a9-49a6f794a559",
   "metadata": {},
   "outputs": [
    {
     "name": "stderr",
     "output_type": "stream",
     "text": [
      "\u001b[32m\u001b[1m    Updating\u001b[22m\u001b[39m registry at `C:\\Users\\miros\\.julia\\registries\\General.toml`\n",
      "\u001b[32m\u001b[1m   Resolving\u001b[22m\u001b[39m package versions...\n",
      "\u001b[32m\u001b[1m  No Changes\u001b[22m\u001b[39m to `C:\\Users\\miros\\.julia\\environments\\v1.11\\Project.toml`\n",
      "\u001b[32m\u001b[1m  No Changes\u001b[22m\u001b[39m to `C:\\Users\\miros\\.julia\\environments\\v1.11\\Manifest.toml`\n"
     ]
    }
   ],
   "source": [
    "import Pkg; Pkg.add(\"Optim\")"
   ]
  },
  {
   "cell_type": "code",
   "execution_count": 2,
   "id": "c87276b7-494c-4082-8d53-596f960c18e2",
   "metadata": {},
   "outputs": [
    {
     "name": "stdout",
     "output_type": "stream",
     "text": [
      "Súčet 2 a 3: 5\n",
      "Koreň zo 16: 4.0\n",
      "Faktoriál 5: 120\n",
      "Sinus 45° (v radiánoch): 0.7071067811865475\n",
      "Exp(-1): 0.36787944117144233\n",
      "Logaritmus (základ e) z 10: 2.302585092994046\n",
      "Minimum funkcie je v bode: 3.0\n"
     ]
    }
   ],
   "source": [
    "using Optim\n",
    "\n",
    "println(\"Súčet 2 a 3: \", 2 + 3)\n",
    "println(\"Koreň zo 16: \", sqrt(16))\n",
    "println(\"Faktoriál 5: \", factorial(5))\n",
    "println(\"Sinus 45° (v radiánoch): \", sin(pi / 4))\n",
    "println(\"Exp(-1): \", exp(-1))\n",
    "println(\"Logaritmus (základ e) z 10: \", log(10))\n",
    "\n",
    "# Optimalizácia - minimizácia funkcie\n",
    "# Definovanie funkcie na optimalizáciu\n",
    "f(x) = (x - 3)^2 + 1\n",
    "result = optimize(f, 0.0, 5.0)\n",
    "println(\"Minimum funkcie je v bode: \", result.minimizer)"
   ]
  },
  {
   "cell_type": "code",
   "execution_count": 3,
   "id": "fa0ebe33-997f-45b8-b88f-da7ca49d49fa",
   "metadata": {},
   "outputs": [
    {
     "ename": "LoadError",
     "evalue": "MethodError: objects of type Dict{String, Base.UUID} are not callable\nThe object of type `Dict{String, Base.UUID}` exists, but no method is defined for this combination of argument types when trying to treat it as a callable object.",
     "output_type": "error",
     "traceback": [
      "MethodError: objects of type Dict{String, Base.UUID} are not callable\nThe object of type `Dict{String, Base.UUID}` exists, but no method is defined for this combination of argument types when trying to treat it as a callable object.",
      "",
      "Stacktrace:",
      " [1] top-level scope",
      "   @ .\\In[3]:3"
     ]
    }
   ],
   "source": [
    "using Pkg\n",
    "\n",
    "for pkg in keys(Pkg.project().dependencies())\n",
    "    println(pkg)\n",
    "end"
   ]
  },
  {
   "cell_type": "code",
   "execution_count": 4,
   "id": "a0c6f412-1e5c-40eb-83a0-e3ddc87fbb4d",
   "metadata": {},
   "outputs": [
    {
     "ename": "LoadError",
     "evalue": "The following package names could not be resolved:\n * Moj_Balicek (not found in project, manifest or registry)\n\u001b[36m   Suggestions:\u001b[39m \u001b[0m\u001b[1mM\u001b[22m\u001b[0m\u001b[1mo\u001b[22mM_Basics",
     "output_type": "error",
     "traceback": [
      "The following package names could not be resolved:\n * Moj_Balicek (not found in project, manifest or registry)\n\u001b[36m   Suggestions:\u001b[39m \u001b[0m\u001b[1mM\u001b[22m\u001b[0m\u001b[1mo\u001b[22mM_Basics",
      "",
      "Stacktrace:",
      " [1] pkgerror(msg::String)",
      "   @ Pkg.Types C:\\Users\\miros\\AppData\\Local\\Programs\\Julia-1.11.2\\share\\julia\\stdlib\\v1.11\\Pkg\\src\\Types.jl:68",
      " [2] ensure_resolved(ctx::Pkg.Types.Context, manifest::Pkg.Types.Manifest, pkgs::Vector{Pkg.Types.PackageSpec}; registry::Bool)",
      "   @ Pkg.Types C:\\Users\\miros\\AppData\\Local\\Programs\\Julia-1.11.2\\share\\julia\\stdlib\\v1.11\\Pkg\\src\\Types.jl:1040",
      " [3] ensure_resolved",
      "   @ C:\\Users\\miros\\AppData\\Local\\Programs\\Julia-1.11.2\\share\\julia\\stdlib\\v1.11\\Pkg\\src\\Types.jl:991 [inlined]",
      " [4] add(ctx::Pkg.Types.Context, pkgs::Vector{Pkg.Types.PackageSpec}; preserve::Pkg.Types.PreserveLevel, platform::Base.BinaryPlatforms.Platform, target::Symbol, allow_autoprecomp::Bool, kwargs::@Kwargs{io::IOContext{IO}})",
      "   @ Pkg.API C:\\Users\\miros\\AppData\\Local\\Programs\\Julia-1.11.2\\share\\julia\\stdlib\\v1.11\\Pkg\\src\\API.jl:294",
      " [5] add(pkgs::Vector{Pkg.Types.PackageSpec}; io::IOContext{IO}, kwargs::@Kwargs{})",
      "   @ Pkg.API C:\\Users\\miros\\AppData\\Local\\Programs\\Julia-1.11.2\\share\\julia\\stdlib\\v1.11\\Pkg\\src\\API.jl:159",
      " [6] add(pkgs::Vector{Pkg.Types.PackageSpec})",
      "   @ Pkg.API C:\\Users\\miros\\AppData\\Local\\Programs\\Julia-1.11.2\\share\\julia\\stdlib\\v1.11\\Pkg\\src\\API.jl:148",
      " [7] add",
      "   @ C:\\Users\\miros\\AppData\\Local\\Programs\\Julia-1.11.2\\share\\julia\\stdlib\\v1.11\\Pkg\\src\\API.jl:147 [inlined]",
      " [8] add(pkg::String)",
      "   @ Pkg.API C:\\Users\\miros\\AppData\\Local\\Programs\\Julia-1.11.2\\share\\julia\\stdlib\\v1.11\\Pkg\\src\\API.jl:146",
      " [9] top-level scope",
      "   @ In[4]:2"
     ]
    }
   ],
   "source": [
    "using Pkg\n",
    "Pkg.add(\"Moj_Balicek\")"
   ]
  },
  {
   "cell_type": "code",
   "execution_count": 5,
   "id": "f4add6a8-0eb6-4751-8d72-c56b6e61aed5",
   "metadata": {},
   "outputs": [
    {
     "data": {
      "text/plain": [
       "cd (generic function with 4 methods)"
      ]
     },
     "execution_count": 5,
     "metadata": {},
     "output_type": "execute_result"
    }
   ],
   "source": [
    "cd"
   ]
  },
  {
   "cell_type": "code",
   "execution_count": 6,
   "id": "b58bf158-de43-47f8-a97f-b8d31762b1ed",
   "metadata": {},
   "outputs": [
    {
     "data": {
      "text/plain": [
       "pwd (generic function with 1 method)"
      ]
     },
     "execution_count": 6,
     "metadata": {},
     "output_type": "execute_result"
    }
   ],
   "source": [
    "pwd"
   ]
  },
  {
   "cell_type": "code",
   "execution_count": 7,
   "id": "5f185afd-5b66-4d4d-8732-f10ba65b4070",
   "metadata": {},
   "outputs": [
    {
     "name": "stderr",
     "output_type": "stream",
     "text": [
      "\u001b[91m\u001b[1mERROR: \u001b[22m\u001b[39mIOError: could not spawn `pwd`: no such file or directory (ENOENT)\n"
     ]
    }
   ],
   "source": [
    ";pwd"
   ]
  },
  {
   "cell_type": "code",
   "execution_count": 8,
   "id": "a8b2830d-1ce1-4ead-ab8f-6d985cc7420a",
   "metadata": {},
   "outputs": [
    {
     "name": "stdout",
     "output_type": "stream",
     "text": [
      "C:\\Users\\miros\n"
     ]
    }
   ],
   "source": [
    ";cd"
   ]
  },
  {
   "cell_type": "code",
   "execution_count": null,
   "id": "46765d1e-0a54-4a19-8462-2bc03f8e2fa9",
   "metadata": {},
   "outputs": [],
   "source": [
    "using Moj_Balicek\n",
    "kalkulacia()"
   ]
  }
 ],
 "metadata": {
  "kernelspec": {
   "display_name": "Julia 1.11.2",
   "language": "julia",
   "name": "julia-1.11"
  },
  "language_info": {
   "file_extension": ".jl",
   "mimetype": "application/julia",
   "name": "julia",
   "version": "1.11.2"
  }
 },
 "nbformat": 4,
 "nbformat_minor": 5
}
