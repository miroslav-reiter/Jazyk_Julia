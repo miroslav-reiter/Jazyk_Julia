{
 "cells": [
  {
   "cell_type": "code",
   "execution_count": 8,
   "id": "2fcd812a-2ea7-4e83-8e2c-3c6a9d3fe8c6",
   "metadata": {},
   "outputs": [
    {
     "name": "stdout",
     "output_type": "stream",
     "text": [
      "Ahoj Julka ❤️\n",
      "Ahoj, Svet! \n",
      "Ahoj, Svet!"
     ]
    }
   ],
   "source": [
    "println(\"Ahoj Julka ❤️\")\n",
    "print(\"Ahoj, Svet! \\n\")\n",
    "print(\"Ahoj, Svet!\")"
   ]
  },
  {
   "cell_type": "code",
   "execution_count": 44,
   "id": "627bbb22-7115-4408-99a8-2a99d091fa0c",
   "metadata": {},
   "outputs": [
    {
     "name": "stdout",
     "output_type": "stream",
     "text": [
      "a: 5 - Int64\n",
      "b: 1000 - Int64\n",
      "c: 9999.99 - Float64\n",
      "d: 10 + 5im - Complex{Int64}\n",
      "f: 3//4 - Rational{Int64}\n",
      "\n",
      "is_PN2: true - Bool\n",
      "\n",
      "meno_zakaznik: Adam - String\n",
      "meno_klient: Eva - String\n",
      "\n",
      "pismeno: X - Char\n",
      "pismenko: A - Char\n",
      "\n",
      "pole_cisel: [1, 2, 3, 4, 5] - Vector{Int64}\n",
      "pole_cisel2: [10, 2, 3, 4, 50] - Vector{Int64}\n",
      "\n",
      "tica: (1, 2, 3, 4, 5) - NTuple{5, Int64}\n",
      "tica2: (1, 2, 3, 4, 5) - NTuple{5, Int64}\n",
      "tica3: (1, \"Julka\") - Tuple{Int64, String}\n",
      "slovnik1: Dict(\"mama\" => \"Eva\", \"otec\" => \"Jozef\") - Dict{String, String}\n",
      "slovnik2: Dict(\"mama\" => 1000, \"otec\" => 850) - Dict{String, Int64}\n",
      "1000\n",
      "mnozina1: Set([5, 9, 3]) - Set{Int64}\n",
      "mnozina2: Set([\"mama\", \"otec\"]) - Set{String}\n"
     ]
    },
    {
     "ename": "LoadError",
     "evalue": "MethodError: no method matching Union{Int64, String}(::Vector{Any})\nThe type `Union{Int64, String}` exists, but no method is defined for this combination of argument types when trying to construct it.",
     "output_type": "error",
     "traceback": [
      "MethodError: no method matching Union{Int64, String}(::Vector{Any})\nThe type `Union{Int64, String}` exists, but no method is defined for this combination of argument types when trying to construct it.",
      "",
      "Stacktrace:",
      " [1] top-level scope",
      "   @ In[44]:57"
     ]
    }
   ],
   "source": [
    "a = 5\n",
    "b::Int64 = 1000\n",
    "c = 9999.99\n",
    "d = 10 + 5im\n",
    "f::Rational{Int64} = 3/4\n",
    "is_PN2::Bool = true\n",
    "meno_zakaznik = \"Adam\"\n",
    "meno_klient::String = \"Eva\"\n",
    "pismeno = 'X'\n",
    "pismenko::Char = 'A'\n",
    "\n",
    "println(\"a: \", a, \" - \" , typeof(a))\n",
    "println(\"b: \", b, \" - \" , typeof(b))\n",
    "println(\"c: \", c, \" - \" , typeof(c))\n",
    "println(\"d: \", d, \" - \" , typeof(d))\n",
    "println(\"f: \", f, \" - \" , typeof(f))\n",
    "\n",
    "println(\"\\nis_PN2: \", is_PN2, \" - \" , typeof(is_PN2))\n",
    "\n",
    "println(\"\\nmeno_zakaznik: \", meno_zakaznik, \" - \" , typeof(meno_zakaznik))\n",
    "println(\"meno_klient: \", meno_klient, \" - \" , typeof(meno_klient))\n",
    "\n",
    "println(\"\\npismeno: \", pismeno, \" - \" , typeof(pismeno))\n",
    "println(\"pismenko: \", pismenko, \" - \" , typeof(pismenko))\n",
    "\n",
    "pole_cisel = [1,2,3,4,5]\n",
    "pole_cisel2::Array = [10,2,3,4,50]\n",
    "\n",
    "println(\"\\npole_cisel: \", pole_cisel, \" - \" , typeof(pole_cisel))\n",
    "println(\"pole_cisel2: \", pole_cisel2, \" - \" , typeof(pole_cisel2))\n",
    "\n",
    "# tuple - nezmenitelny zoznam/pole na citanie\n",
    "tica = (1,2,3,4,5)\n",
    "tica2::Tuple = (1,2,3,4,5)\n",
    "tica3::Tuple{Int, String} = (1,\"Julka\")\n",
    "\n",
    "println(\"\\ntica: \", tica, \" - \" , typeof(tica))\n",
    "println(\"tica2: \", tica2, \" - \" , typeof(tica2))\n",
    "println(\"tica3: \", tica3, \" - \" , typeof(tica3))\n",
    "\n",
    "# Slovnik, asociativne pole, JSON\n",
    "slovnik1 = Dict(\"mama\"=>\"Eva\", \"otec\"=>\"Jozef\")\n",
    "slovnik2 = Dict(\"mama\"=>1000, \"otec\"=>850)\n",
    "println(\"slovnik1: \", slovnik1, \" - \" , typeof(slovnik1))\n",
    "println(\"slovnik2: \", slovnik2, \" - \" , typeof(slovnik2))\n",
    "\n",
    "println(slovnik2[\"mama\"])\n",
    "\n",
    "# Mnozina, zoznam unikatenych hodnot\n",
    "mnozina1 = Set{Int}([5,9,3])\n",
    "mnozina2 = Set{String}([\"mama\", \"otec\"])\n",
    "\n",
    "println(\"mnozina1: \", mnozina1, \" - \" , typeof(mnozina1))\n",
    "println(\"mnozina2: \", mnozina2, \" - \" , typeof(mnozina2))\n",
    "\n",
    "# Union, premenna moze mat viac typou\n",
    "unia1 = Union{Int, String}([5,\"Adam\"])\n",
    "unia2 = Union{Float, String}([9.99, \"otec\"])\n",
    "\n",
    "println(String(unia1))\n",
    "println(String(unia2))"
   ]
  },
  {
   "cell_type": "code",
   "execution_count": 47,
   "id": "c7a5b518-4366-4747-b84a-70280482e128",
   "metadata": {},
   "outputs": [
    {
     "name": "stdout",
     "output_type": "stream",
     "text": [
      "2024-01-01\n",
      "2024-01-01T12:00:00\n"
     ]
    }
   ],
   "source": [
    "using Dates\n",
    "datum::Date = Date(2024, 1, 1)\n",
    "cas::DateTime = DateTime(2024, 1, 1, 12, 0)\n",
    "\n",
    "println(datum)\n",
    "println(cas)"
   ]
  },
  {
   "cell_type": "code",
   "execution_count": null,
   "id": "57f97780-aa16-4ac5-8dd7-ddaf8c8574fe",
   "metadata": {},
   "outputs": [],
   "source": [
    "abstract type Zviera end\n",
    "\n",
    "struct Pes <: Zviera\n",
    "    meno::String\n",
    "end\n",
    "\n",
    "struct Macka <: Zviera\n",
    "    meno::String\n",
    "end\n",
    "\n",
    "pes = Pes(\"Luigi\")\n",
    "macka = Macka(\"Micka\")\n",
    "\n",
    "println(pes)"
   ]
  },
  {
   "cell_type": "code",
   "execution_count": null,
   "id": "e39f0cbf-c37e-4360-9c48-2f13c34e186d",
   "metadata": {},
   "outputs": [],
   "source": []
  },
  {
   "cell_type": "code",
   "execution_count": 51,
   "id": "95630ee1-1629-4a66-802b-d6d540baf789",
   "metadata": {},
   "outputs": [
    {
     "name": "stdout",
     "output_type": "stream",
     "text": [
      "Jana\n"
     ]
    }
   ],
   "source": [
    "struct Student\n",
    "    meno::String\n",
    "    vek::Int\n",
    "end\n",
    "\n",
    "student = Student(\"Jana\", 20)\n",
    "println(student.meno)  # Výstup: Jana"
   ]
  },
  {
   "cell_type": "code",
   "execution_count": null,
   "id": "7ce751c6-d5aa-4a03-94ff-84c926502dcd",
   "metadata": {},
   "outputs": [],
   "source": []
  }
 ],
 "metadata": {
  "kernelspec": {
   "display_name": "Julia 1.11.2",
   "language": "julia",
   "name": "julia-1.11"
  },
  "language_info": {
   "file_extension": ".jl",
   "mimetype": "application/julia",
   "name": "julia",
   "version": "1.11.2"
  }
 },
 "nbformat": 4,
 "nbformat_minor": 5
}
