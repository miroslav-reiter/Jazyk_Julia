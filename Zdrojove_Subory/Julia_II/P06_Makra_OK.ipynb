{
 "cells": [
  {
   "cell_type": "markdown",
   "id": "6ad6266c-ec26-43de-84fa-2ddcb3370c30",
   "metadata": {},
   "source": [
    "# ⚡ Makrá (Macros)\n",
    "- Sú špeciálne konštrukcie, ktoré umožňujú metaprogramovanie.\n",
    "- Teda úpravu a generovanie kódu ešte pred jeho vykonaním.\n",
    "- Používajú sa na automatizáciu opakujúcich sa úloh, optimalizáciu výkonu a pridanie syntaktického cukru.\n",
    "- V Julii sa makrá označujú symbolom @ pred ich názvom."
   ]
  },
  {
   "cell_type": "markdown",
   "id": "aef72fe0-22d5-4b04-9580-6e11733072a5",
   "metadata": {},
   "source": [
    "## ✨ Definovanie a použitie makier"
   ]
  },
  {
   "cell_type": "code",
   "execution_count": 3,
   "id": "d9068295-a023-48ce-a1a6-9d1a06f85a33",
   "metadata": {},
   "outputs": [
    {
     "data": {
      "text/plain": [
       "@vypis (macro with 1 method)"
      ]
     },
     "execution_count": 3,
     "metadata": {},
     "output_type": "execute_result"
    }
   ],
   "source": [
    "# Definovanie makra\n",
    "macro vypis(expr)\n",
    "    return :(println(\"Hodnota: \", $expr))\n",
    "end"
   ]
  },
  {
   "cell_type": "code",
   "execution_count": 4,
   "id": "f357dec7-7a8e-4859-9bb9-42bdc26af7b2",
   "metadata": {},
   "outputs": [
    {
     "name": "stdout",
     "output_type": "stream",
     "text": [
      "Hodnota: 8\n"
     ]
    }
   ],
   "source": [
    "# Použitie makra\n",
    "@vypis(5 + 3)"
   ]
  },
  {
   "cell_type": "markdown",
   "id": "5bbba94b-6828-4a93-b891-0774cf579340",
   "metadata": {},
   "source": [
    "## 🔥 Odstránenie globálnych premenných pre optimalizáciu výkonu\n",
    "- Makrá môžu nahradiť výpočty v globálnom rozsahu, čím zvyšujú výkon."
   ]
  },
  {
   "cell_type": "code",
   "execution_count": 5,
   "id": "2d0d226e-1fa2-4633-8b5d-c73278a4cd6b",
   "metadata": {},
   "outputs": [
    {
     "name": "stdout",
     "output_type": "stream",
     "text": [
      "16\n"
     ]
    }
   ],
   "source": [
    "macro kvadrat(x)\n",
    "    return :($x * $x)\n",
    "end\n",
    "\n",
    "a = 4\n",
    "println(@kvadrat(a))  # Výstup: 16\n"
   ]
  },
  {
   "cell_type": "markdown",
   "id": "c74e1179-2f50-4247-927a-e88b5d9cb46b",
   "metadata": {},
   "source": [
    "## 👍 Automatická časová analýza kódu\n",
    "- Makro @time slúži na meranie výkonu výpočtov.\n",
    "- Výstup obsahuje informácie o čase vykonania a využití pamäte."
   ]
  },
  {
   "cell_type": "code",
   "execution_count": 8,
   "id": "736fa68d-2417-47e4-b1fc-21622159fb1a",
   "metadata": {},
   "outputs": [
    {
     "data": {
      "text/plain": [
       "500000500000"
      ]
     },
     "execution_count": 8,
     "metadata": {},
     "output_type": "execute_result"
    },
    {
     "name": "stdout",
     "output_type": "stream",
     "text": [
      "  0.000001 seconds\n"
     ]
    }
   ],
   "source": [
    "@time sum(1:10^6)"
   ]
  },
  {
   "cell_type": "markdown",
   "id": "9b02d901-571f-4d13-9788-83d1fa596e4d",
   "metadata": {},
   "source": [
    "## 🆙 Dekorátory pre funkcie\n",
    "- Makrá môžu modifikovať chovanie funkcií, podobne ako dekorátory v iných jazykoch."
   ]
  },
  {
   "cell_type": "code",
   "execution_count": 9,
   "id": "0c4e39ec-2262-4298-9258-f091f3f9f40e",
   "metadata": {},
   "outputs": [
    {
     "name": "stdout",
     "output_type": "stream",
     "text": [
      "Spúšťam funkciu...\n",
      "Výsledok: Ahoj, Julia!\n"
     ]
    },
    {
     "data": {
      "text/plain": [
       "\"Ahoj, Julia!\""
      ]
     },
     "execution_count": 9,
     "metadata": {},
     "output_type": "execute_result"
    }
   ],
   "source": [
    "macro logovanie(funkcia)\n",
    "    return quote\n",
    "        println(\"Spúšťam funkciu...\")\n",
    "        výsledok = $(esc(funkcia))()\n",
    "        println(\"Výsledok: \", výsledok)\n",
    "        výsledok\n",
    "    end\n",
    "end\n",
    "\n",
    "@logovanie function ahoj()\n",
    "    return \"Ahoj, Julia!\"\n",
    "end\n"
   ]
  },
  {
   "cell_type": "markdown",
   "id": "4ef2014d-5db5-4e3a-ac3e-941c1175eb50",
   "metadata": {},
   "source": [
    "## 💯 Vytváranie makier s viacnásobnými argumentmi\n",
    "- Makrá môžu pracovať s viacerými argumentmi a vytvárať komplexné operácie."
   ]
  },
  {
   "cell_type": "code",
   "execution_count": 10,
   "id": "2eb84088-cd5b-403d-a3f5-9837c10b4058",
   "metadata": {},
   "outputs": [
    {
     "name": "stdout",
     "output_type": "stream",
     "text": [
      "30\n"
     ]
    }
   ],
   "source": [
    "macro sucty(a, b)\n",
    "    return :($a + $b)\n",
    "end\n",
    "\n",
    "println(@sucty(10, 20))  # Výstup: 30\n"
   ]
  },
  {
   "cell_type": "code",
   "execution_count": null,
   "id": "e41eb438-3f7a-4f01-9df5-d51f97aeb22e",
   "metadata": {},
   "outputs": [],
   "source": []
  },
  {
   "cell_type": "markdown",
   "id": "3904a53b-6a75-478d-9f63-5e774b3c5b53",
   "metadata": {},
   "source": [
    "## 👋 10 najpoužívanejších makier"
   ]
  },
  {
   "cell_type": "code",
   "execution_count": 12,
   "id": "c51540f3-943d-4af7-b11f-acdecd3daaa2",
   "metadata": {},
   "outputs": [
    {
     "name": "stdout",
     "output_type": "stream",
     "text": [
      "  0.000001 seconds\n"
     ]
    },
    {
     "data": {
      "text/plain": [
       "500000000499999990"
      ]
     },
     "execution_count": 12,
     "metadata": {},
     "output_type": "execute_result"
    }
   ],
   "source": [
    "# @time – Meranie času vykonania kódu\n",
    "# Používa sa na zistenie, ako dlho trvá vykonanie výrazu a koľko pamäte sa pritom využije.\n",
    "@time sum(1:10^6)\n"
   ]
  },
  {
   "cell_type": "code",
   "execution_count": 13,
   "id": "976fc17c-298c-47b7-90d4-553f207feb9c",
   "metadata": {},
   "outputs": [
    {
     "name": "stdout",
     "output_type": "stream",
     "text": [
      "Čas vykonania: 2.0e-7\n"
     ]
    }
   ],
   "source": [
    "# @elapsed – Meranie času bez ďalších výstupov\n",
    "# Podobné ako @time, ale vráti iba čas vykonania ako číselnú hodnotu.\n",
    "t = @elapsed sum(1:10^6)\n",
    "println(\"Čas vykonania: \", t)\n"
   ]
  },
  {
   "cell_type": "code",
   "execution_count": 14,
   "id": "e350ec8c-8488-4692-8d8a-550cf489dad7",
   "metadata": {},
   "outputs": [
    {
     "data": {
      "text/plain": [
       "BenchmarkTools.Trial: 10000 samples with 1000 evaluations.\n",
       " Range \u001b[90m(\u001b[39m\u001b[36m\u001b[1mmin\u001b[22m\u001b[39m … \u001b[35mmax\u001b[39m\u001b[90m):  \u001b[39m\u001b[36m\u001b[1m1.900 ns\u001b[22m\u001b[39m … \u001b[35m244.700 ns\u001b[39m  \u001b[90m┊\u001b[39m GC \u001b[90m(\u001b[39mmin … max\u001b[90m): \u001b[39m0.00% … 0.00%\n",
       " Time  \u001b[90m(\u001b[39m\u001b[34m\u001b[1mmedian\u001b[22m\u001b[39m\u001b[90m):     \u001b[39m\u001b[34m\u001b[1m2.500 ns               \u001b[22m\u001b[39m\u001b[90m┊\u001b[39m GC \u001b[90m(\u001b[39mmedian\u001b[90m):    \u001b[39m0.00%\n",
       " Time  \u001b[90m(\u001b[39m\u001b[32m\u001b[1mmean\u001b[22m\u001b[39m ± \u001b[32mσ\u001b[39m\u001b[90m):   \u001b[39m\u001b[32m\u001b[1m2.724 ns\u001b[22m\u001b[39m ± \u001b[32m  3.637 ns\u001b[39m  \u001b[90m┊\u001b[39m GC \u001b[90m(\u001b[39mmean ± σ\u001b[90m):  \u001b[39m0.00% ± 0.00%\n",
       "\n",
       "  \u001b[39m▄\u001b[39m \u001b[39m█\u001b[39m \u001b[39m \u001b[39m \u001b[39m \u001b[39m \u001b[39m \u001b[39m \u001b[39m \u001b[39m \u001b[39m \u001b[39m \u001b[39m \u001b[34m \u001b[39m\u001b[39m \u001b[39m \u001b[39m \u001b[39m \u001b[39m \u001b[32m \u001b[39m\u001b[39m \u001b[39m \u001b[39m \u001b[39m \u001b[39m \u001b[39m \u001b[39m \u001b[39m \u001b[39m \u001b[39m \u001b[39m \u001b[39m \u001b[39m \u001b[39m \u001b[39m \u001b[39m \u001b[39m \u001b[39m \u001b[39m \u001b[39m \u001b[39m \u001b[39m \u001b[39m \u001b[39m \u001b[39m \u001b[39m \u001b[39m \u001b[39m \u001b[39m \u001b[39m \u001b[39m \u001b[39m \u001b[39m \u001b[39m \u001b[39m \u001b[39m \u001b[39m \u001b[39m \u001b[39m \n",
       "  \u001b[39m█\u001b[39m▁\u001b[39m█\u001b[39m▁\u001b[39m▁\u001b[39m▃\u001b[39m▁\u001b[39m▅\u001b[39m▁\u001b[39m▁\u001b[39m▆\u001b[39m▁\u001b[39m▆\u001b[39m▁\u001b[39m▁\u001b[34m▅\u001b[39m\u001b[39m▁\u001b[39m▆\u001b[39m▁\u001b[39m▁\u001b[39m▇\u001b[32m▁\u001b[39m\u001b[39m▁\u001b[39m▆\u001b[39m▁\u001b[39m▆\u001b[39m▁\u001b[39m▁\u001b[39m▆\u001b[39m▁\u001b[39m▆\u001b[39m▁\u001b[39m▁\u001b[39m▇\u001b[39m▁\u001b[39m▄\u001b[39m▁\u001b[39m▁\u001b[39m▅\u001b[39m▁\u001b[39m▁\u001b[39m▄\u001b[39m▁\u001b[39m▂\u001b[39m▁\u001b[39m▁\u001b[39m▃\u001b[39m▁\u001b[39m▂\u001b[39m▁\u001b[39m▁\u001b[39m▃\u001b[39m▁\u001b[39m▂\u001b[39m▁\u001b[39m▁\u001b[39m▂\u001b[39m▁\u001b[39m▂\u001b[39m \u001b[39m▃\n",
       "  1.9 ns\u001b[90m          Histogram: frequency by time\u001b[39m         4.2 ns \u001b[0m\u001b[1m<\u001b[22m\n",
       "\n",
       " Memory estimate\u001b[90m: \u001b[39m\u001b[33m0 bytes\u001b[39m, allocs estimate\u001b[90m: \u001b[39m\u001b[33m0\u001b[39m."
      ]
     },
     "execution_count": 14,
     "metadata": {},
     "output_type": "execute_result"
    }
   ],
   "source": [
    "# @benchmark – Detailná analýza výkonu kódu\n",
    "# Používa sa v kombinácii s knižnicou BenchmarkTools na presnejšie meranie výkonu.\n",
    "\n",
    "using BenchmarkTools\n",
    "@benchmark sum(1:10^6)\n"
   ]
  },
  {
   "cell_type": "code",
   "execution_count": 16,
   "id": "f50676d5-a8e7-463d-b864-ef9e1f9942ad",
   "metadata": {},
   "outputs": [
    {
     "name": "stdout",
     "output_type": "stream",
     "text": [
      "x = 12\n"
     ]
    },
    {
     "data": {
      "text/plain": [
       "12"
      ]
     },
     "execution_count": 16,
     "metadata": {},
     "output_type": "execute_result"
    }
   ],
   "source": [
    "# @show – Rýchle zobrazenie výrazu a jeho výsledku\n",
    "# Automaticky zobrazí premennú aj jej hodnotu.\n",
    "\n",
    "x = 12\n",
    "@show x\n"
   ]
  },
  {
   "cell_type": "code",
   "execution_count": 19,
   "id": "004425d3-c7eb-4047-bae8-20b202c31b07",
   "metadata": {},
   "outputs": [
    {
     "ename": "LoadError",
     "evalue": "AssertionError: Hodnota musí byť kladná!",
     "output_type": "error",
     "traceback": [
      "AssertionError: Hodnota musí byť kladná!",
      "",
      "Stacktrace:",
      " [1] top-level scope",
      "   @ In[19]:5"
     ]
    }
   ],
   "source": [
    "# @assert – Kontrola podmienok počas behu programu\n",
    "# Používa sa na overenie, či je podmienka splnená. Ak nie je, program vyhodí chybu.\n",
    "\n",
    "x = 10 # -10\n",
    "@assert x > 0 \"Hodnota musí byť kladná!\""
   ]
  },
  {
   "cell_type": "code",
   "execution_count": 20,
   "id": "cad7a7e6-2e98-49ca-b2ce-68810fcf0c46",
   "metadata": {},
   "outputs": [
    {
     "data": {
      "text/plain": [
       "suma (generic function with 1 method)"
      ]
     },
     "execution_count": 20,
     "metadata": {},
     "output_type": "execute_result"
    }
   ],
   "source": [
    "# @inbounds – Optimalizácia práce s poľami\n",
    "# Odstraňuje kontroly indexov v poliach pre vyšší výkon.\n",
    "\n",
    "function suma(arr)\n",
    "    s = 0\n",
    "    @inbounds for i in eachindex(arr)\n",
    "        s += arr[i]\n",
    "    end\n",
    "    return s\n",
    "end\n"
   ]
  },
  {
   "cell_type": "code",
   "execution_count": 21,
   "id": "165fa24a-dfdc-46d4-a062-9c50a0a7bf16",
   "metadata": {},
   "outputs": [
    {
     "data": {
      "text/plain": [
       "moja_funkcia (generic function with 1 method)"
      ]
     },
     "execution_count": 21,
     "metadata": {},
     "output_type": "execute_result"
    }
   ],
   "source": [
    "# @generated – Generovanie funkcií na základe typu vstupu\n",
    "# Makro umožňuje vytvárať funkcie, ktoré generujú špecifický kód podľa vstupného typu.\n",
    "\n",
    "@generated function moja_funkcia(x::T) where T\n",
    "    return :(x + x)\n",
    "end\n"
   ]
  },
  {
   "cell_type": "code",
   "execution_count": 22,
   "id": "5ea64415-8d9b-480a-86d2-3f3c309ad481",
   "metadata": {},
   "outputs": [
    {
     "data": {
      "text/plain": [
       "quote\n",
       "    Base.println(\"x = \", Base.repr(begin\n",
       "                \u001b[90m#= show.jl:1232 =#\u001b[39m\n",
       "                local var\"#96#value\" = x\n",
       "            end))\n",
       "    var\"#96#value\"\n",
       "end"
      ]
     },
     "execution_count": 22,
     "metadata": {},
     "output_type": "execute_result"
    }
   ],
   "source": [
    "# @macroexpand – Zobrazenie rozvinutého makra\n",
    "# Používa sa na analýzu, ako sa makro prekladá na kód.\n",
    "\n",
    "@macroexpand @show x"
   ]
  },
  {
   "cell_type": "code",
   "execution_count": 23,
   "id": "cf24fead-31a5-45b7-9a47-d763eedda2a0",
   "metadata": {},
   "outputs": [
    {
     "data": {
      "text/plain": [
       "10"
      ]
     },
     "execution_count": 23,
     "metadata": {},
     "output_type": "execute_result"
    }
   ],
   "source": [
    "# @view – Efektívna práca s podpoľami bez kopírovania\n",
    "# Vytvára pohľad na časť poľa bez kopírovania dát.\n",
    "\n",
    "A = [1, 2, 3, 4, 5]\n",
    "subA = @view A[2:4]\n",
    "subA[1] = 10  # Zmení aj pôvodné pole A\n"
   ]
  },
  {
   "cell_type": "code",
   "execution_count": 26,
   "id": "a29f05d9-31ed-4ddf-8650-d2a9975239c1",
   "metadata": {},
   "outputs": [
    {
     "name": "stdout",
     "output_type": "stream",
     "text": [
      "[1.0, 4.0, 9.0, 16.0, 25.0, 36.0, 49.0, 64.0, 81.0, 100.0, 121.0, 144.0, 169.0, 196.0, 225.0, 256.0, 289.0, 324.0, 361.0, 400.0, 441.0, 484.0, 529.0, 576.0, 625.0, 676.0, 729.0, 784.0, 841.0, 900.0, 961.0, 1024.0, 1089.0, 1156.0, 1225.0, 1296.0, 1369.0, 1444.0, 1521.0, 1600.0, 1681.0, 1764.0, 1849.0, 1936.0, 2025.0, 2116.0, 2209.0, 2304.0, 2401.0, 2500.0, 2601.0, 2704.0, 2809.0, 2916.0, 3025.0, 3136.0, 3249.0, 3364.0, 3481.0, 3600.0, 3721.0, 3844.0, 3969.0, 4096.0, 4225.0, 4356.0, 4489.0, 4624.0, 4761.0, 4900.0, 5041.0, 5184.0, 5329.0, 5476.0, 5625.0, 5776.0, 5929.0, 6084.0, 6241.0, 6400.0, 6561.0, 6724.0, 6889.0, 7056.0, 7225.0, 7396.0, 7569.0, 7744.0, 7921.0, 8100.0, 8281.0, 8464.0, 8649.0, 8836.0, 9025.0, 9216.0, 9409.0, 9604.0, 9801.0, 10000.0]\n"
     ]
    }
   ],
   "source": [
    "# @threads – Paralelné spracovanie slučiek\n",
    "# Používa sa na zrýchlenie iterácií cez viaceré vlákna CPU.\n",
    "\n",
    "using Base.Threads\n",
    "arr = zeros(100)\n",
    "@threads for i in 1:100\n",
    "    arr[i] = i^2\n",
    "end\n",
    "\n",
    "println(arr)"
   ]
  },
  {
   "cell_type": "code",
   "execution_count": null,
   "id": "3f371aa2-6e59-428b-a39d-7cb88e3dd924",
   "metadata": {},
   "outputs": [],
   "source": []
  }
 ],
 "metadata": {
  "kernelspec": {
   "display_name": "Julia 1.11.2",
   "language": "julia",
   "name": "julia-1.11"
  },
  "language_info": {
   "file_extension": ".jl",
   "mimetype": "application/julia",
   "name": "julia",
   "version": "1.11.2"
  }
 },
 "nbformat": 4,
 "nbformat_minor": 5
}
