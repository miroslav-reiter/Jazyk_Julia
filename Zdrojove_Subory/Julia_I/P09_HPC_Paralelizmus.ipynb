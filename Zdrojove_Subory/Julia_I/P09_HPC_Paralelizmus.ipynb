{
 "cells": [
  {
   "cell_type": "code",
   "execution_count": 1,
   "id": "998d4b4b-a95f-493c-a29a-e061e0733db7",
   "metadata": {},
   "outputs": [
    {
     "name": "stdout",
     "output_type": "stream",
     "text": [
      "Half way through. I counted to 500 million.\n",
      "Done. I counted to 1 billion.\n"
     ]
    }
   ],
   "source": [
    "for i in 1:1_000_000_000\n",
    "    if i == 500_000_000\n",
    "        println(\"Half way through. I counted to 500 million.\")\n",
    "    end\n",
    "end\n",
    "println(\"Done. I counted to 1 billion.\")"
   ]
  },
  {
   "cell_type": "code",
   "execution_count": 2,
   "id": "6fc9518b-6038-490c-82a6-e0195d948cdb",
   "metadata": {},
   "outputs": [
    {
     "name": "stdout",
     "output_type": "stream",
     "text": [
      "Prvé tri hodnoty: [0.4546487134128409, -0.37840124765396416, -0.13970774909946293]\n"
     ]
    }
   ],
   "source": [
    "using Base.Threads\n",
    "\n",
    "# Inicializácia poľa\n",
    "n = 10^7\n",
    "a = zeros(n)\n",
    "\n",
    "# Paralelné naplnenie poľa\n",
    "@threads for i in 1:n\n",
    "    a[i] = sin(i) * cos(i)\n",
    "end\n",
    "\n",
    "println(\"Prvé tri hodnoty: \", a[1:3])\n"
   ]
  },
  {
   "cell_type": "code",
   "execution_count": 3,
   "id": "3ddee0e8-8ead-4058-87af-d342a56fa1db",
   "metadata": {},
   "outputs": [
    {
     "data": {
      "text/plain": [
       "1"
      ]
     },
     "execution_count": 3,
     "metadata": {},
     "output_type": "execute_result"
    }
   ],
   "source": [
    "Threads.nthreads()"
   ]
  },
  {
   "cell_type": "code",
   "execution_count": 4,
   "id": "7f08833c-a788-486d-bcb9-73bab58f9b71",
   "metadata": {},
   "outputs": [
    {
     "name": "stdout",
     "output_type": "stream",
     "text": [
      "Výsledky: [1, 4, 9, 16, 25]\n"
     ]
    }
   ],
   "source": [
    "using Distributed\n",
    "\n",
    "# Pridanie procesov\n",
    "addprocs(4)\n",
    "\n",
    "@everywhere function square(x)\n",
    "    return x^2\n",
    "end\n",
    "\n",
    "# Paralelné mapovanie\n",
    "data = 1:100\n",
    "result = @distributed (vcat) for x in data\n",
    "    square(x)\n",
    "end\n",
    "\n",
    "println(\"Výsledky: \", result[1:5])\n"
   ]
  },
  {
   "cell_type": "code",
   "execution_count": 5,
   "id": "3857bc94-a37d-44d3-b774-7ecfe11d256c",
   "metadata": {},
   "outputs": [
    {
     "name": "stdout",
     "output_type": "stream",
     "text": [
      "Prvé tri hodnoty v a: [0.8573523251261884, 0.6501752075338176, 1.4783303177541969]\n"
     ]
    }
   ],
   "source": [
    "function simd_example!(a, b)\n",
    "    @simd for i in eachindex(a)\n",
    "        a[i] += b[i]\n",
    "    end\n",
    "end\n",
    "\n",
    "# Inicializácia vektorov\n",
    "a = rand(1_000_000)\n",
    "b = rand(1_000_000)\n",
    "\n",
    "simd_example!(a, b)\n",
    "println(\"Prvé tri hodnoty v a: \", a[1:3])\n"
   ]
  },
  {
   "cell_type": "code",
   "execution_count": 6,
   "id": "f286edb7-85b3-4e9a-9c39-c3d3bc00ae44",
   "metadata": {},
   "outputs": [
    {
     "name": "stderr",
     "output_type": "stream",
     "text": [
      "\u001b[32m\u001b[1m   Resolving\u001b[22m\u001b[39m package versions...\n",
      "\u001b[32m\u001b[1m  No Changes\u001b[22m\u001b[39m to `C:\\Users\\miros\\.julia\\environments\\v1.11\\Project.toml`\n",
      "\u001b[32m\u001b[1m  No Changes\u001b[22m\u001b[39m to `C:\\Users\\miros\\.julia\\environments\\v1.11\\Manifest.toml`\n"
     ]
    }
   ],
   "source": [
    "import Pkg; \n",
    "Pkg.add(\"BenchmarkTools\")"
   ]
  },
  {
   "cell_type": "code",
   "execution_count": 7,
   "id": "31e96f54-d7ce-4bcf-91bd-676b50ab5f7c",
   "metadata": {},
   "outputs": [
    {
     "name": "stdout",
     "output_type": "stream",
     "text": [
      "  198.547 ms (0 allocations: 0 bytes)\n"
     ]
    },
    {
     "data": {
      "text/plain": [
       "1.9558914085412433"
      ]
     },
     "execution_count": 7,
     "metadata": {},
     "output_type": "execute_result"
    }
   ],
   "source": [
    "using BenchmarkTools\n",
    "\n",
    "function test_sum(n)\n",
    "    s = 0.0\n",
    "    for i in 1:n\n",
    "        s += sin(i)\n",
    "    end\n",
    "    return s\n",
    "end\n",
    "\n",
    "@btime test_sum(10^7)\n",
    "\n"
   ]
  },
  {
   "cell_type": "code",
   "execution_count": null,
   "id": "c8171243-cdcd-4c49-a1f7-fc3f0b409eb2",
   "metadata": {},
   "outputs": [],
   "source": []
  }
 ],
 "metadata": {
  "kernelspec": {
   "display_name": "Julia 1.11.2",
   "language": "julia",
   "name": "julia-1.11"
  },
  "language_info": {
   "file_extension": ".jl",
   "mimetype": "application/julia",
   "name": "julia",
   "version": "1.11.2"
  }
 },
 "nbformat": 4,
 "nbformat_minor": 5
}
