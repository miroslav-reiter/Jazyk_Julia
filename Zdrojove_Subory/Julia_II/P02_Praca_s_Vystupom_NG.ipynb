{
 "cells": [
  {
   "cell_type": "markdown",
   "id": "1fa58014-782c-4bdb-9330-5d08c9f4b472",
   "metadata": {},
   "source": [
    "# 📤 Práca s výstupom"
   ]
  },
  {
   "cell_type": "markdown",
   "id": "a8f5b2d7-80b6-4965-b3a2-6d6b38c57d19",
   "metadata": {},
   "source": [
    "## 1️⃣ Funkcia show\n",
    "- Zobrazuje hodnotu v jej internom reprezentovaní.\n",
    "- Používa sa najmä na ladenie.\n",
    "- Výstup sa môže líšiť od toho, čo vráti print alebo println."
   ]
  },
  {
   "cell_type": "code",
   "execution_count": 1,
   "id": "707954d7-8430-4abb-a6bc-f5fb29f279c9",
   "metadata": {},
   "outputs": [
    {
     "name": "stdout",
     "output_type": "stream",
     "text": [
      "123\"Hello\""
     ]
    }
   ],
   "source": [
    "\n"
   ]
  },
  {
   "cell_type": "code",
   "execution_count": 2,
   "id": "31ba555c-6214-419e-97fc-fd682cfdcb0a",
   "metadata": {},
   "outputs": [
    {
     "name": "stdout",
     "output_type": "stream",
     "text": [
      "\"Ahoj\""
     ]
    }
   ],
   "source": []
  },
  {
   "cell_type": "code",
   "execution_count": 3,
   "id": "ead9accd-f471-4d18-8ac5-6dd520682ae4",
   "metadata": {},
   "outputs": [
    {
     "name": "stdout",
     "output_type": "stream",
     "text": [
      "\"Ahoj, Svet!\""
     ]
    }
   ],
   "source": [
    "\n"
   ]
  },
  {
   "cell_type": "code",
   "execution_count": 4,
   "id": "c5ceac81-0956-416c-af31-3d7627795627",
   "metadata": {},
   "outputs": [
    {
     "name": "stdout",
     "output_type": "stream",
     "text": [
      "123\"Ahoj\"\"Ahoj, Svet!\""
     ]
    }
   ],
   "source": []
  },
  {
   "cell_type": "code",
   "execution_count": 24,
   "id": "43eb4ecc-cb77-442d-a9d9-f12e741c3704",
   "metadata": {},
   "outputs": [
    {
     "name": "stdout",
     "output_type": "stream",
     "text": [
      "\"Ahoj\"AhojAhoj\n"
     ]
    }
   ],
   "source": []
  },
  {
   "cell_type": "code",
   "execution_count": 25,
   "id": "f5528b7f-cf9f-461d-9b12-634cf6ffb9f4",
   "metadata": {},
   "outputs": [
    {
     "name": "stdout",
     "output_type": "stream",
     "text": [
      "\"Riadok\\nNový\"Riadok\n",
      "Nový"
     ]
    }
   ],
   "source": []
  },
  {
   "cell_type": "code",
   "execution_count": 15,
   "id": "9f0571a2-48d0-45f6-9106-0cc2db4b8224",
   "metadata": {},
   "outputs": [
    {
     "name": "stdout",
     "output_type": "stream",
     "text": [
      "[1, 2, 3]"
     ]
    }
   ],
   "source": [
    "\n"
   ]
  },
  {
   "cell_type": "code",
   "execution_count": 16,
   "id": "efeb96cc-88c2-4c58-a9f1-35cbe613e867",
   "metadata": {},
   "outputs": [
    {
     "name": "stdout",
     "output_type": "stream",
     "text": [
      "(10, \"Hello\", 3.14)"
     ]
    }
   ],
   "source": []
  },
  {
   "cell_type": "code",
   "execution_count": 17,
   "id": "a11a101c-f1ab-4cf4-8541-bfb3ee5c14d6",
   "metadata": {},
   "outputs": [
    {
     "name": "stdout",
     "output_type": "stream",
     "text": [
      "Dict(\"b\" => 2, \"a\" => 1)"
     ]
    }
   ],
   "source": [
    "\n"
   ]
  },
  {
   "cell_type": "markdown",
   "id": "c386eeca-d501-4038-857a-b1e3d8290410",
   "metadata": {},
   "source": [
    "### Zápis výstupu do súboru\n",
    "- show môže zapisovať do súboru namiesto konzoly:"
   ]
  },
  {
   "cell_type": "code",
   "execution_count": 19,
   "id": "59b7e1f3-2877-4487-9876-9f8b289348e8",
   "metadata": {},
   "outputs": [
    {
     "name": "stdout",
     "output_type": "stream",
     "text": [
      "\"✅ Som zapisal...\""
     ]
    }
   ],
   "source": []
  },
  {
   "cell_type": "markdown",
   "id": "46458b72-f2aa-4d9d-bb64-9ab7d12befab",
   "metadata": {},
   "source": [
    "### Použitie show na vlastné štruktúry\n",
    "- Definovanie vlastného typu a použitie show na výpis:"
   ]
  },
  {
   "cell_type": "code",
   "execution_count": 20,
   "id": "6d5f813f-768d-4897-87a9-aeb009b9e300",
   "metadata": {},
   "outputs": [
    {
     "name": "stdout",
     "output_type": "stream",
     "text": [
      "Osoba(\"Ján\", 30)"
     ]
    }
   ],
   "source": []
  },
  {
   "cell_type": "markdown",
   "id": "9217b95c-0b82-4824-9d85-b0cf6465c441",
   "metadata": {},
   "source": [
    "### Použitie show s IOBuffer na získanie výstupu ako reťazca\n",
    "- Namiesto vypísania do konzoly môžeme výstup uložiť do premennej"
   ]
  },
  {
   "cell_type": "code",
   "execution_count": 21,
   "id": "f0cce8b7-3a17-486e-97f3-6912027c83fd",
   "metadata": {},
   "outputs": [
    {
     "data": {
      "text/plain": [
       "\"[10, 20, 30]\""
      ]
     },
     "execution_count": 21,
     "metadata": {},
     "output_type": "execute_result"
    }
   ],
   "source": []
  },
  {
   "cell_type": "markdown",
   "id": "037296d6-f6a4-49c6-a378-53a407a47a4d",
   "metadata": {},
   "source": [
    "## 2️⃣ Makro @info\n",
    "- Používa sa na informačné výpisy v konzole.\n",
    "- Vypisuje správu v štruktúrovanej forme.\n",
    "- Štandardne zahŕňa časovú značku a volajúci modul."
   ]
  },
  {
   "cell_type": "code",
   "execution_count": 29,
   "id": "7aacaeea-4823-4106-9836-83c05a562d80",
   "metadata": {},
   "outputs": [
    {
     "name": "stderr",
     "output_type": "stream",
     "text": [
      "\u001b[36m\u001b[1m[ \u001b[22m\u001b[39m\u001b[36m\u001b[1mInfo: \u001b[22m\u001b[39mProgram sa spustil úspešne.\n",
      "\u001b[36m\u001b[1m┌ \u001b[22m\u001b[39m\u001b[36m\u001b[1mInfo: \u001b[22m\u001b[39mSpráva o stave\n",
      "\u001b[36m\u001b[1m└ \u001b[22m\u001b[39m  hodnota = 42\n"
     ]
    }
   ],
   "source": []
  },
  {
   "cell_type": "code",
   "execution_count": 30,
   "id": "1b444fc7-2054-4f41-a62f-f9dd5f82257f",
   "metadata": {},
   "outputs": [
    {
     "name": "stderr",
     "output_type": "stream",
     "text": [
      "\u001b[36m\u001b[1m┌ \u001b[22m\u001b[39m\u001b[36m\u001b[1mInfo: \u001b[22m\u001b[39mPoužívateľ\n",
      "\u001b[36m\u001b[1m│ \u001b[22m\u001b[39m  meno = \"Ján\"\n",
      "\u001b[36m\u001b[1m└ \u001b[22m\u001b[39m  vek = 30\n"
     ]
    }
   ],
   "source": []
  },
  {
   "cell_type": "code",
   "execution_count": null,
   "id": "5bc1be69-bdfa-4b23-9469-d9e094b3f326",
   "metadata": {},
   "outputs": [],
   "source": [
    "# Môžeme vypísať aj výsledok výpočtu."
   ]
  },
  {
   "cell_type": "code",
   "execution_count": 31,
   "id": "bb9b3b59-369e-4e94-953a-cb57a763fe83",
   "metadata": {},
   "outputs": [
    {
     "name": "stderr",
     "output_type": "stream",
     "text": [
      "\u001b[36m\u001b[1m┌ \u001b[22m\u001b[39m\u001b[36m\u001b[1mInfo: \u001b[22m\u001b[39mVýsledok sčítania\n",
      "\u001b[36m\u001b[1m└ \u001b[22m\u001b[39m  súčet = 15\n"
     ]
    }
   ],
   "source": []
  },
  {
   "cell_type": "code",
   "execution_count": 6,
   "id": "d537a887-b809-4571-9005-6d5158f5d3ce",
   "metadata": {},
   "outputs": [
    {
     "name": "stdout",
     "output_type": "stream",
     "text": [
      "Ahoj Svet\n",
      "Súčet: 15\n"
     ]
    }
   ],
   "source": []
  },
  {
   "cell_type": "code",
   "execution_count": null,
   "id": "3134d5ff-1763-4c4b-9cef-b2b52bfcd327",
   "metadata": {},
   "outputs": [],
   "source": [
    "# Vypisovanie zoznamov a polí (Array)"
   ]
  },
  {
   "cell_type": "code",
   "execution_count": 32,
   "id": "29621b75-f71b-4ffe-842d-ea28d93f2f09",
   "metadata": {},
   "outputs": [
    {
     "name": "stderr",
     "output_type": "stream",
     "text": [
      "\u001b[36m\u001b[1m┌ \u001b[22m\u001b[39m\u001b[36m\u001b[1mInfo: \u001b[22m\u001b[39mDostupné kurzy\n",
      "\u001b[36m\u001b[1m│ \u001b[22m\u001b[39m  kurzy =\n",
      "\u001b[36m\u001b[1m│ \u001b[22m\u001b[39m   3-element Vector{String}:\n",
      "\u001b[36m\u001b[1m│ \u001b[22m\u001b[39m    \"Python\"\n",
      "\u001b[36m\u001b[1m│ \u001b[22m\u001b[39m    \"Julia\"\n",
      "\u001b[36m\u001b[1m└ \u001b[22m\u001b[39m    \"SQL\"\n"
     ]
    }
   ],
   "source": []
  },
  {
   "cell_type": "markdown",
   "id": "9bc1d74c-e4ea-411d-8925-9a0e6864fe60",
   "metadata": {},
   "source": [
    "### Výpis chybovej hlášky v prípade nesprávnej hodnoty."
   ]
  },
  {
   "cell_type": "code",
   "execution_count": 33,
   "id": "4bf85057-7942-4209-a659-124b6b61b609",
   "metadata": {},
   "outputs": [
    {
     "name": "stderr",
     "output_type": "stream",
     "text": [
      "\u001b[36m\u001b[1m┌ \u001b[22m\u001b[39m\u001b[36m\u001b[1mInfo: \u001b[22m\u001b[39mPoužívateľ nemôže získať vodičský preukaz.\n",
      "\u001b[36m\u001b[1m└ \u001b[22m\u001b[39m  vek = 15\n"
     ]
    }
   ],
   "source": []
  },
  {
   "cell_type": "markdown",
   "id": "404f04e8-19d5-4906-8a61-322647ba20e4",
   "metadata": {},
   "source": [
    "### Použitie v try-catch na odchytávanie výnimiek."
   ]
  },
  {
   "cell_type": "code",
   "execution_count": 34,
   "id": "a80e7359-d3b5-4009-9812-fe4dbb50aa79",
   "metadata": {},
   "outputs": [
    {
     "data": {
      "text/plain": [
       "Inf"
      ]
     },
     "execution_count": 34,
     "metadata": {},
     "output_type": "execute_result"
    }
   ],
   "source": []
  },
  {
   "cell_type": "markdown",
   "id": "574a6c01-a854-4e13-9baa-b69684d6dd92",
   "metadata": {},
   "source": [
    "### Logovanie iterácií v cykle."
   ]
  },
  {
   "cell_type": "code",
   "execution_count": 35,
   "id": "dfc675f1-2721-4c6d-b583-3bbc8ec48080",
   "metadata": {},
   "outputs": [
    {
     "name": "stderr",
     "output_type": "stream",
     "text": [
      "\u001b[36m\u001b[1m┌ \u001b[22m\u001b[39m\u001b[36m\u001b[1mInfo: \u001b[22m\u001b[39mSpracovávam iteráciu\n",
      "\u001b[36m\u001b[1m└ \u001b[22m\u001b[39m  i = 1\n",
      "\u001b[36m\u001b[1m┌ \u001b[22m\u001b[39m\u001b[36m\u001b[1mInfo: \u001b[22m\u001b[39mSpracovávam iteráciu\n",
      "\u001b[36m\u001b[1m└ \u001b[22m\u001b[39m  i = 2\n",
      "\u001b[36m\u001b[1m┌ \u001b[22m\u001b[39m\u001b[36m\u001b[1mInfo: \u001b[22m\u001b[39mSpracovávam iteráciu\n",
      "\u001b[36m\u001b[1m└ \u001b[22m\u001b[39m  i = 3\n"
     ]
    }
   ],
   "source": [
    "\n"
   ]
  },
  {
   "cell_type": "markdown",
   "id": "2e2220a5-2670-46c1-86d3-96e44403abfa",
   "metadata": {},
   "source": [
    "### Vypisovanie stavu programu (progress tracking)"
   ]
  },
  {
   "cell_type": "code",
   "execution_count": 36,
   "id": "f129d7d7-47fe-448e-9f47-cd8990a76d6d",
   "metadata": {},
   "outputs": [
    {
     "name": "stderr",
     "output_type": "stream",
     "text": [
      "\u001b[36m\u001b[1m┌ \u001b[22m\u001b[39m\u001b[36m\u001b[1mInfo: \u001b[22m\u001b[39mPriebeh výpočtu\n",
      "\u001b[36m\u001b[1m└ \u001b[22m\u001b[39m  percento = 33\n",
      "\u001b[36m\u001b[1m┌ \u001b[22m\u001b[39m\u001b[36m\u001b[1mInfo: \u001b[22m\u001b[39mPriebeh výpočtu\n",
      "\u001b[36m\u001b[1m└ \u001b[22m\u001b[39m  percento = 66\n",
      "\u001b[36m\u001b[1m┌ \u001b[22m\u001b[39m\u001b[36m\u001b[1mInfo: \u001b[22m\u001b[39mPriebeh výpočtu\n",
      "\u001b[36m\u001b[1m└ \u001b[22m\u001b[39m  percento = 99\n"
     ]
    }
   ],
   "source": []
  },
  {
   "cell_type": "markdown",
   "id": "80e5bf1c-e620-43b8-9f5d-8f0992e3c3ca",
   "metadata": {},
   "source": [
    "### Použitie s vlastnými štruktúrami"
   ]
  },
  {
   "cell_type": "code",
   "execution_count": 38,
   "id": "beaf4d39-7cbd-470c-bd4f-3aa2ab522992",
   "metadata": {},
   "outputs": [
    {
     "name": "stderr",
     "output_type": "stream",
     "text": [
      "\u001b[36m\u001b[1m┌ \u001b[22m\u001b[39m\u001b[36m\u001b[1mInfo: \u001b[22m\u001b[39mInformácie o aute\n",
      "\u001b[36m\u001b[1m└ \u001b[22m\u001b[39m  moje_auto = Auto(\"Tesla\", 2022)\n"
     ]
    }
   ],
   "source": []
  },
  {
   "cell_type": "markdown",
   "id": "e69da659-0cc2-4f07-9be1-9b1e1b07e3f0",
   "metadata": {},
   "source": [
    "### Zmena úrovne logovania (napr. Logging.Debug)\n",
    "- Predvolene @info loguje na úrovni INFO, ale môžeme meniť úroveň logovania."
   ]
  },
  {
   "cell_type": "code",
   "execution_count": 39,
   "id": "a5eb2a8c-f9db-4b46-885b-87f03f99ab3b",
   "metadata": {},
   "outputs": [
    {
     "name": "stderr",
     "output_type": "stream",
     "text": [
      "\u001b[34m\u001b[1m┌ \u001b[22m\u001b[39m\u001b[34m\u001b[1mDebug: \u001b[22m\u001b[39mDebug message - toto sa zobrazí iba pri Debug úrovni\n",
      "\u001b[34m\u001b[1m└ \u001b[22m\u001b[39m\u001b[90m@ Main In[39]:5\u001b[39m\n",
      "\u001b[36m\u001b[1m[ \u001b[22m\u001b[39m\u001b[36m\u001b[1mInfo: \u001b[22m\u001b[39mInfo message - toto sa vždy zobrazí\n"
     ]
    }
   ],
   "source": []
  },
  {
   "cell_type": "markdown",
   "id": "78fff08f-084d-4a16-b6a2-5499169c87fa",
   "metadata": {},
   "source": [
    "### Časové značky (Timestamps)"
   ]
  },
  {
   "cell_type": "code",
   "execution_count": 51,
   "id": "16f78409-c6ca-4b88-bd2f-fc7865902973",
   "metadata": {},
   "outputs": [
    {
     "name": "stdout",
     "output_type": "stream",
     "text": [
      "\u001b[36m\u001b[1m┌ \u001b[22m\u001b[39m\u001b[36m\u001b[1mInfo: \u001b[22m\u001b[39mProgram sa spustil v čase\n",
      "\u001b[36m\u001b[1m└ \u001b[22m\u001b[39m  čas = 2025-02-18T10:46:57.060\n"
     ]
    }
   ],
   "source": []
  },
  {
   "cell_type": "code",
   "execution_count": 48,
   "id": "c0c01168-904c-4226-9aef-06464a6a058e",
   "metadata": {},
   "outputs": [
    {
     "name": "stdout",
     "output_type": "stream",
     "text": [
      "┌ Info: Test logovania\n",
      "└ @ Main In[48]:2\n"
     ]
    }
   ],
   "source": []
  },
  {
   "cell_type": "code",
   "execution_count": 52,
   "id": "257e3065-52fd-4abe-8ee7-fb2797234585",
   "metadata": {},
   "outputs": [
    {
     "name": "stdout",
     "output_type": "stream",
     "text": [
      "\u001b[36m\u001b[1m[ \u001b[22m\u001b[39m\u001b[36m\u001b[1mInfo: \u001b[22m\u001b[39mProgram sa spustil.\n"
     ]
    }
   ],
   "source": []
  },
  {
   "cell_type": "code",
   "execution_count": 53,
   "id": "0506910d-d319-4b42-82c9-3bce5041ecc5",
   "metadata": {},
   "outputs": [
    {
     "name": "stdout",
     "output_type": "stream",
     "text": [
      "[Info] 2025-02-18T10:47:04.454 - Program sa spustil úspešne.\n"
     ]
    }
   ],
   "source": []
  },
  {
   "cell_type": "code",
   "execution_count": 54,
   "id": "bdcf167a-189c-446b-b856-32f52011f09f",
   "metadata": {},
   "outputs": [
    {
     "name": "stdout",
     "output_type": "stream",
     "text": [
      "[Info] 2025-02-18T10:47:34.778 - Program sa spustil úspešne.\n",
      "  čas = 2025-02-18T10:47:34.763\n"
     ]
    }
   ],
   "source": []
  },
  {
   "cell_type": "markdown",
   "id": "f418dd18-391e-4742-9df0-a3384c5e3cb2",
   "metadata": {},
   "source": [
    "## 3️⃣ Funkcie print a println\n",
    "- print vypíše text bez nového riadku.\n",
    "- println vypíše text a automaticky pridá nový riadok."
   ]
  },
  {
   "cell_type": "code",
   "execution_count": 55,
   "id": "e708ed42-c136-46c0-ba49-6aa459e3e846",
   "metadata": {},
   "outputs": [
    {
     "name": "stdout",
     "output_type": "stream",
     "text": [
      "Ahoj Svet\n"
     ]
    }
   ],
   "source": []
  },
  {
   "cell_type": "code",
   "execution_count": 56,
   "id": "4f567de0-bbbd-4028-a63a-2c73ff6c4a62",
   "metadata": {},
   "outputs": [
    {
     "name": "stdout",
     "output_type": "stream",
     "text": [
      "Meno: Ján, Vek: 30Mesto: Bratislava\n"
     ]
    }
   ],
   "source": []
  },
  {
   "cell_type": "code",
   "execution_count": 57,
   "id": "ff6adf5e-a330-4012-95b0-1543211b4ca8",
   "metadata": {},
   "outputs": [
    {
     "name": "stdout",
     "output_type": "stream",
     "text": [
      "Prvý riadok\n",
      "Druhý riadokMeno:\tJán\n",
      "Vek:\t30\n"
     ]
    }
   ],
   "source": []
  },
  {
   "cell_type": "markdown",
   "id": "ebd1ca9a-102c-4486-ac88-a87d395c9fa6",
   "metadata": {},
   "source": []
  },
  {
   "cell_type": "code",
   "execution_count": 58,
   "id": "58d8a613-b2df-4fbf-bcca-2b903ce2f00e",
   "metadata": {},
   "outputs": [
    {
     "name": "stdout",
     "output_type": "stream",
     "text": [
      "Meno: Ján, Vek: 30\n"
     ]
    }
   ],
   "source": []
  },
  {
   "cell_type": "markdown",
   "id": "963c8bf1-8d14-4cc4-b2d4-ca99562eaeaa",
   "metadata": {},
   "source": [
    "### Formátovanie čísel (round)"
   ]
  },
  {
   "cell_type": "code",
   "execution_count": 59,
   "id": "cd36894d-10c5-42d4-b27c-79954267380c",
   "metadata": {},
   "outputs": [
    {
     "name": "stdout",
     "output_type": "stream",
     "text": [
      "Zaokrúhlené π: 3.142\n"
     ]
    }
   ],
   "source": []
  },
  {
   "cell_type": "markdown",
   "id": "49b125b0-6ed4-43aa-89f4-f6f3299f8739",
   "metadata": {},
   "source": [
    "### Použitie print a println v cykle"
   ]
  },
  {
   "cell_type": "code",
   "execution_count": null,
   "id": "061bac20-4228-4e9f-beff-62f0fd6b7e50",
   "metadata": {},
   "outputs": [],
   "source": []
  },
  {
   "cell_type": "code",
   "execution_count": 60,
   "id": "b837f845-7954-4859-85a9-2f63550bfc94",
   "metadata": {},
   "outputs": [
    {
     "name": "stdout",
     "output_type": "stream",
     "text": [
      "Kurzy: [\"Python\", \"Julia\", \"SQL\"]\n"
     ]
    }
   ],
   "source": []
  },
  {
   "cell_type": "markdown",
   "id": "640fd0dc-f494-47ab-87e9-5a1e94e9d964",
   "metadata": {},
   "source": [
    "### Zápis výstupu do súboru"
   ]
  },
  {
   "cell_type": "code",
   "execution_count": 62,
   "id": "afa3a864-cb6c-425d-9c29-ff54a0222c22",
   "metadata": {},
   "outputs": [],
   "source": []
  },
  {
   "cell_type": "markdown",
   "id": "b531957c-7ece-4b24-82cf-ba43127a1e1d",
   "metadata": {},
   "source": [
    "### Použitie s funkciou join na pekné vypisovanie zoznamov"
   ]
  },
  {
   "cell_type": "code",
   "execution_count": 63,
   "id": "bdbe1238-a7e2-42a0-9443-8840586dd2cb",
   "metadata": {},
   "outputs": [
    {
     "name": "stdout",
     "output_type": "stream",
     "text": [
      "Dostupné kurzy: Python, Julia, SQL\n"
     ]
    }
   ],
   "source": []
  },
  {
   "cell_type": "markdown",
   "id": "8a618490-35fc-45b8-8c8b-4b79d2e725d8",
   "metadata": {},
   "source": [
    "## 4️⃣ Použitie modulu Printf\n",
    "- Poskytuje formátovaný výstup podobný jazyku C (printf).\n",
    "- Používa sa na precízne formátovanie čísel a textu."
   ]
  },
  {
   "cell_type": "code",
   "execution_count": 7,
   "id": "abaaa917-4b84-4fe8-8ffd-f16a60f90f2e",
   "metadata": {},
   "outputs": [
    {
     "name": "stdout",
     "output_type": "stream",
     "text": [
      "Desatinné číslo: 3.14\n",
      "Číslo: 42, Text: Julia\n"
     ]
    }
   ],
   "source": []
  },
  {
   "cell_type": "markdown",
   "id": "e5b86c7c-7abf-449d-8502-dfd2032cea40",
   "metadata": {},
   "source": [
    "### Použitie @sprintf na uloženie formátovaného textu do premennej\n",
    "- Na rozdiel od @printf, @sprintf vracia reťazec namiesto priameho výpisu."
   ]
  },
  {
   "cell_type": "code",
   "execution_count": 12,
   "id": "a5f15cb9-0759-417b-8b8a-b777430a1ad4",
   "metadata": {},
   "outputs": [
    {
     "name": "stdout",
     "output_type": "stream",
     "text": [
      "Pi: 3.142\n",
      "Pi: 3.142\n"
     ]
    }
   ],
   "source": []
  },
  {
   "cell_type": "code",
   "execution_count": 13,
   "id": "cc8c73f2-b950-434c-b1eb-40cfba7f933e",
   "metadata": {},
   "outputs": [
    {
     "name": "stdout",
     "output_type": "stream",
     "text": [
      "Pi: 3.14159\n"
     ]
    }
   ],
   "source": []
  },
  {
   "cell_type": "code",
   "execution_count": 14,
   "id": "56f6df4f-c1e4-455d-9711-0898775306db",
   "metadata": {},
   "outputs": [
    {
     "name": "stdout",
     "output_type": "stream",
     "text": [
      "Pi: 3.142\n"
     ]
    }
   ],
   "source": []
  },
  {
   "cell_type": "markdown",
   "id": "ff734f57-f6e6-47c2-88d7-e6805abb951f",
   "metadata": {},
   "source": [
    "### Formátovanie čísel s pevnou šírkou (%10d)\n",
    "- Číslo zarovnané doprava v 10-znakovom priestore."
   ]
  },
  {
   "cell_type": "code",
   "execution_count": 64,
   "id": "10fc9963-d18a-4076-a7be-525b73abe02c",
   "metadata": {},
   "outputs": [
    {
     "name": "stdout",
     "output_type": "stream",
     "text": [
      "Cena:        250 EUR\n"
     ]
    }
   ],
   "source": []
  },
  {
   "cell_type": "markdown",
   "id": "78798f4d-5bb8-49a5-ae51-217d4f7b3628",
   "metadata": {},
   "source": [
    "### Formátovanie s nulovým vyplnením (%010d)"
   ]
  },
  {
   "cell_type": "code",
   "execution_count": 65,
   "id": "b8619a2a-6e2a-4bf1-bcc2-493523ed0140",
   "metadata": {},
   "outputs": [
    {
     "name": "stdout",
     "output_type": "stream",
     "text": [
      "ID objednávky: 0000012345\n"
     ]
    }
   ],
   "source": []
  },
  {
   "cell_type": "markdown",
   "id": "abf67a92-9e13-4201-bf9b-621e91ce1c2d",
   "metadata": {},
   "source": [
    "### Formátovanie vedeckých čísel (%e a %E)"
   ]
  },
  {
   "cell_type": "code",
   "execution_count": 66,
   "id": "d7229755-ca0d-4f12-b7e6-7916a91e8e54",
   "metadata": {},
   "outputs": [
    {
     "name": "stdout",
     "output_type": "stream",
     "text": [
      "Malé číslo: 1.230000e-04\n",
      "Veľké číslo: 1.234568E+06\n"
     ]
    }
   ],
   "source": []
  },
  {
   "cell_type": "markdown",
   "id": "64ea8b10-ce75-4a02-99df-5db806b1c4d4",
   "metadata": {},
   "source": [
    "### Zarovnávanie textu v tabuľke (%-10s)\n",
    "- Text zarovnaný doľava v 10 znakoch (- znamená doľava)."
   ]
  },
  {
   "cell_type": "code",
   "execution_count": 67,
   "id": "4ea90920-e6af-4dcb-b3f0-8a4ad93e97c0",
   "metadata": {},
   "outputs": [
    {
     "name": "stdout",
     "output_type": "stream",
     "text": [
      "| Jablká     |    10 |\n",
      "| Hrušky     |     5 |\n"
     ]
    }
   ],
   "source": []
  },
  {
   "cell_type": "markdown",
   "id": "ec279ac0-427c-47f5-9d20-1304aca26280",
   "metadata": {},
   "source": [
    "### Formátovanie hexadecimálnych čísel (%x a %X)"
   ]
  },
  {
   "cell_type": "code",
   "execution_count": 68,
   "id": "67017a8a-c56f-4659-b425-6ae730770a6a",
   "metadata": {},
   "outputs": [
    {
     "name": "stdout",
     "output_type": "stream",
     "text": [
      "Hexadecimálne: ff\n",
      "HEX veľké: FF\n"
     ]
    }
   ],
   "source": []
  },
  {
   "cell_type": "markdown",
   "id": "39563b55-c85e-4aa5-ab35-0ace7afd3fa9",
   "metadata": {},
   "source": [
    "### Generovanie dynamicky formátovaných reťazcov "
   ]
  },
  {
   "cell_type": "code",
   "execution_count": 69,
   "id": "1e56fa5e-3785-479b-a098-9ce360061613",
   "metadata": {},
   "outputs": [
    {
     "name": "stdout",
     "output_type": "stream",
     "text": [
      "[\"10.50 EUR\", \"20.75 EUR\", \"30.99 EUR\"]\n"
     ]
    }
   ],
   "source": []
  },
  {
   "cell_type": "code",
   "execution_count": null,
   "id": "5a523031-f528-4807-afc7-452ab6c3e0b9",
   "metadata": {},
   "outputs": [],
   "source": []
  }
 ],
 "metadata": {
  "kernelspec": {
   "display_name": "Julia 1.11.2",
   "language": "julia",
   "name": "julia-1.11"
  },
  "language_info": {
   "file_extension": ".jl",
   "mimetype": "application/julia",
   "name": "julia",
   "version": "1.11.2"
  }
 },
 "nbformat": 4,
 "nbformat_minor": 5
}
