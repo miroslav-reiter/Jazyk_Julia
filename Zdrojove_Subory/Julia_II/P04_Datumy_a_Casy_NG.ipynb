{
 "cells": [
  {
   "cell_type": "markdown",
   "id": "0b85bd84-fce8-4c5c-b001-26bddf3a029b",
   "metadata": {},
   "source": [
    "# 🗓️ Dátumy a Časy\n",
    "- V jazyku Julia sa na prácu s dátumami a časmi používa štandardná knižnica Dates.\n",
    "- Táto knižnica poskytuje nástroje na vytváranie, formátovanie, manipuláciu a výpočty s dátumami a časmi.\n",
    "- Štandardná knižnica Dates neobsahuje podporu pre čas, práca s časovými pásmami (TimeZones.jl)"
   ]
  },
  {
   "cell_type": "markdown",
   "id": "d66d7b0c-8ca5-4e0e-aa9f-c4246993642c",
   "metadata": {},
   "source": [
    "## 📆 1. Vytvorenie dátumov a časov"
   ]
  },
  {
   "cell_type": "code",
   "execution_count": 3,
   "id": "7c6b3a6f-5218-464b-b375-6d82cc0223bd",
   "metadata": {},
   "outputs": [
    {
     "name": "stdout",
     "output_type": "stream",
     "text": [
      "2025-02-18T15:58:36.691\n",
      "2025-02-18\n"
     ]
    }
   ],
   "source": [
    "# Vytvorenie dátumov a časov\n",
    "\n"
   ]
  },
  {
   "cell_type": "code",
   "execution_count": 5,
   "id": "0b1ad6f6-0bcd-468f-bc5a-1f0042556056",
   "metadata": {},
   "outputs": [
    {
     "name": "stdout",
     "output_type": "stream",
     "text": [
      "2025-02-19\n",
      "14:30:00\n",
      "2025-02-19T14:30:00\n"
     ]
    }
   ],
   "source": [
    "# Vytvorenie konkrétneho dátumu\n",
    "\n",
    "\n",
    "# Vytvorenie konkrétneho času\n",
    "\n",
    "\n",
    "# Vytvorenie dátumu a času\n",
    "\n"
   ]
  },
  {
   "cell_type": "markdown",
   "id": "fd49ad39-8046-4075-baba-5132b237f31f",
   "metadata": {},
   "source": [
    "## ⏳ 2. Výpočty s dátumami a časmi"
   ]
  },
  {
   "cell_type": "code",
   "execution_count": 10,
   "id": "6a080aea-55a5-4e8c-8127-9e0d48aef690",
   "metadata": {},
   "outputs": [
    {
     "name": "stdout",
     "output_type": "stream",
     "text": [
      "2025-02-24T14:30:00\n",
      "2024-12-19T14:30:00\n",
      "2026-02-19T14:30:00\n",
      "50 days\n",
      "Day\n"
     ]
    }
   ],
   "source": [
    "# Výpočty s dátumami a časmi\n",
    "# Pridanie alebo odčítanie dní, mesiacov, rokov\n",
    "\n",
    "\n",
    "# Rozdiel medzi dvoma dátumami\n",
    "\n"
   ]
  },
  {
   "cell_type": "code",
   "execution_count": 26,
   "id": "651343b1-5a08-4f05-b08a-4e719c4fab68",
   "metadata": {},
   "outputs": [
    {
     "name": "stdout",
     "output_type": "stream",
     "text": [
      "Rozdiel je 49 dní\n"
     ]
    }
   ],
   "source": [
    "# Rozdiel medzi dvoma dátumami v rôznych formátoch\n",
    "\n"
   ]
  },
  {
   "cell_type": "markdown",
   "id": "ec6803bb-8188-4f15-ab4f-af325137a028",
   "metadata": {},
   "source": [
    "## ⛏️ 3. Extrahovanie častí dátumu a času"
   ]
  },
  {
   "cell_type": "code",
   "execution_count": 11,
   "id": "bf626b83-4036-4d4f-a150-a062f8a2be1f",
   "metadata": {},
   "outputs": [
    {
     "name": "stdout",
     "output_type": "stream",
     "text": [
      "2025\n",
      "2\n",
      "19\n",
      "14\n",
      "30\n",
      "0\n"
     ]
    }
   ],
   "source": [
    "# Extrahovanie častí dátumu a času\n"
   ]
  },
  {
   "cell_type": "markdown",
   "id": "b1fffe7a-0ec0-44bc-9f4f-8d358cfba90b",
   "metadata": {},
   "source": [
    "## 👉 4. Formátovanie dátumu a času"
   ]
  },
  {
   "cell_type": "code",
   "execution_count": 23,
   "id": "ff24af18-814b-4dd2-bfc5-54777e681388",
   "metadata": {},
   "outputs": [
    {
     "name": "stdout",
     "output_type": "stream",
     "text": [
      "2025-02-19 14:30:00\n",
      "19.02.2025\n",
      "DateTime\n",
      "------------------------------\n",
      "2025-02-18T14:30:00\n",
      "DateTime\n"
     ]
    }
   ],
   "source": [
    "# Formátovanie dátumu a času\n",
    "\n",
    "\n",
    "# Konverzia na reťazec s vlastným formátom\n",
    "\n",
    "\n",
    "# Konverzia zo reťazca na dátum\n"
   ]
  },
  {
   "cell_type": "markdown",
   "id": "ce547c5a-b46b-4650-8875-4d2a313220c9",
   "metadata": {},
   "source": [
    "## 📊 5. Určenie dňa v týždni a roku"
   ]
  },
  {
   "cell_type": "code",
   "execution_count": 24,
   "id": "3b20eeaf-2913-479e-be45-9c3028c890d8",
   "metadata": {},
   "outputs": [
    {
     "name": "stdout",
     "output_type": "stream",
     "text": [
      "3\n",
      "Wednesday\n",
      "------------------------------\n",
      "true\n",
      "false\n"
     ]
    }
   ],
   "source": [
    "# Určenie dňa v týždni\n"
   ]
  },
  {
   "cell_type": "markdown",
   "id": "faeec5be-a50f-4227-8ed9-adc6265f35d7",
   "metadata": {},
   "source": [
    "## 🕒 6. Práca s časovými pásmami"
   ]
  },
  {
   "cell_type": "code",
   "execution_count": 36,
   "id": "443c7728-11da-4f6e-97e2-15d1479225ab",
   "metadata": {},
   "outputs": [
    {
     "name": "stderr",
     "output_type": "stream",
     "text": [
      "\u001b[32m\u001b[1m   Resolving\u001b[22m\u001b[39m package versions...\n",
      "\u001b[32m\u001b[1m  No Changes\u001b[22m\u001b[39m to `C:\\Users\\miros\\.julia\\environments\\v1.11\\Project.toml`\n",
      "\u001b[32m\u001b[1m  No Changes\u001b[22m\u001b[39m to `C:\\Users\\miros\\.julia\\environments\\v1.11\\Manifest.toml`\n"
     ]
    },
    {
     "name": "stdout",
     "output_type": "stream",
     "text": [
      "2025-02-18T19:18:24.313+00:00\n",
      "2025-02-18T19:18:24.313+01:00\n",
      "------------------------------\n",
      "TimeZone[tz\"Africa/Abidjan\", tz\"Africa/Accra\", tz\"Africa/Addis_Ababa\", tz\"Africa/Algiers\", tz\"Africa/Asmara\", tz\"Africa/Asmera\", tz\"Africa/Bamako\", tz\"Africa/Bangui\", tz\"Africa/Banjul\", tz\"Africa/Bissau\", tz\"Africa/Blantyre\", tz\"Africa/Brazzaville\", tz\"Africa/Bujumbura\", tz\"Africa/Cairo\", tz\"Africa/Casablanca\", tz\"Africa/Ceuta\", tz\"Africa/Conakry\", tz\"Africa/Dakar\", tz\"Africa/Dar_es_Salaam\", tz\"Africa/Djibouti\", tz\"Africa/Douala\", tz\"Africa/El_Aaiun\", tz\"Africa/Freetown\", tz\"Africa/Gaborone\", tz\"Africa/Harare\", tz\"Africa/Johannesburg\", tz\"Africa/Juba\", tz\"Africa/Kampala\", tz\"Africa/Khartoum\", tz\"Africa/Kigali\", tz\"Africa/Kinshasa\", tz\"Africa/Lagos\", tz\"Africa/Libreville\", tz\"Africa/Lome\", tz\"Africa/Luanda\", tz\"Africa/Lubumbashi\", tz\"Africa/Lusaka\", tz\"Africa/Malabo\", tz\"Africa/Maputo\", tz\"Africa/Maseru\", tz\"Africa/Mbabane\", tz\"Africa/Mogadishu\", tz\"Africa/Monrovia\", tz\"Africa/Nairobi\", tz\"Africa/Ndjamena\", tz\"Africa/Niamey\", tz\"Africa/Nouakchott\", tz\"Africa/Ouagadougou\", tz\"Africa/Porto-Novo\", tz\"Africa/Sao_Tome\", tz\"Africa/Timbuktu\", tz\"Africa/Tripoli\", tz\"Africa/Tunis\", tz\"Africa/Windhoek\", tz\"America/Adak\", tz\"America/Anchorage\", tz\"America/Anguilla\", tz\"America/Antigua\", tz\"America/Araguaina\", tz\"America/Argentina/Buenos_Aires\", tz\"America/Argentina/Catamarca\", tz\"America/Argentina/ComodRivadavia\", tz\"America/Argentina/Cordoba\", tz\"America/Argentina/Jujuy\", tz\"America/Argentina/La_Rioja\", tz\"America/Argentina/Mendoza\", tz\"America/Argentina/Rio_Gallegos\", tz\"America/Argentina/Salta\", tz\"America/Argentina/San_Juan\", tz\"America/Argentina/San_Luis\", tz\"America/Argentina/Tucuman\", tz\"America/Argentina/Ushuaia\", tz\"America/Aruba\", tz\"America/Asuncion\", tz\"America/Atikokan\", tz\"America/Atka\", tz\"America/Bahia\", tz\"America/Bahia_Banderas\", tz\"America/Barbados\", tz\"America/Belem\", tz\"America/Belize\", tz\"America/Blanc-Sablon\", tz\"America/Boa_Vista\", tz\"America/Bogota\", tz\"America/Boise\", tz\"America/Buenos_Aires\", tz\"America/Cambridge_Bay\", tz\"America/Campo_Grande\", tz\"America/Cancun\", tz\"America/Caracas\", tz\"America/Catamarca\", tz\"America/Cayenne\", tz\"America/Cayman\", tz\"America/Chicago\", tz\"America/Chihuahua\", tz\"America/Ciudad_Juarez\", tz\"America/Coral_Harbour\", tz\"America/Cordoba\", tz\"America/Costa_Rica\", tz\"America/Creston\", tz\"America/Cuiaba\", tz\"America/Curacao\", tz\"America/Danmarkshavn\", tz\"America/Dawson\", tz\"America/Dawson_Creek\", tz\"America/Denver\", tz\"America/Detroit\", tz\"America/Dominica\", tz\"America/Edmonton\", tz\"America/Eirunepe\", tz\"America/El_Salvador\", tz\"America/Ensenada\", tz\"America/Fort_Nelson\", tz\"America/Fort_Wayne\", tz\"America/Fortaleza\", tz\"America/Glace_Bay\", tz\"America/Godthab\", tz\"America/Goose_Bay\", tz\"America/Grand_Turk\", tz\"America/Grenada\", tz\"America/Guadeloupe\", tz\"America/Guatemala\", tz\"America/Guayaquil\", tz\"America/Guyana\", tz\"America/Halifax\", tz\"America/Havana\", tz\"America/Hermosillo\", tz\"America/Indiana/Indianapolis\", tz\"America/Indiana/Knox\", tz\"America/Indiana/Marengo\", tz\"America/Indiana/Petersburg\", tz\"America/Indiana/Tell_City\", tz\"America/Indiana/Vevay\", tz\"America/Indiana/Vincennes\", tz\"America/Indiana/Winamac\", tz\"America/Indianapolis\", tz\"America/Inuvik\", tz\"America/Iqaluit\", tz\"America/Jamaica\", tz\"America/Jujuy\", tz\"America/Juneau\", tz\"America/Kentucky/Louisville\", tz\"America/Kentucky/Monticello\", tz\"America/Knox_IN\", tz\"America/Kralendijk\", tz\"America/La_Paz\", tz\"America/Lima\", tz\"America/Los_Angeles\", tz\"America/Louisville\", tz\"America/Lower_Princes\", tz\"America/Maceio\", tz\"America/Managua\", tz\"America/Manaus\", tz\"America/Marigot\", tz\"America/Martinique\", tz\"America/Matamoros\", tz\"America/Mazatlan\", tz\"America/Mendoza\", tz\"America/Menominee\", tz\"America/Merida\", tz\"America/Metlakatla\", tz\"America/Mexico_City\", tz\"America/Miquelon\", tz\"America/Moncton\", tz\"America/Monterrey\", tz\"America/Montevideo\", tz\"America/Montreal\", tz\"America/Montserrat\", tz\"America/Nassau\", tz\"America/New_York\", tz\"America/Nipigon\", tz\"America/Nome\", tz\"America/Noronha\", tz\"America/North_Dakota/Beulah\", tz\"America/North_Dakota/Center\", tz\"America/North_Dakota/New_Salem\", tz\"America/Nuuk\", tz\"America/Ojinaga\", tz\"America/Panama\", tz\"America/Pangnirtung\", tz\"America/Paramaribo\", tz\"America/Phoenix\", tz\"America/Port-au-Prince\", tz\"America/Port_of_Spain\", tz\"America/Porto_Acre\", tz\"America/Porto_Velho\", tz\"America/Puerto_Rico\", tz\"America/Punta_Arenas\", tz\"America/Rainy_River\", tz\"America/Rankin_Inlet\", tz\"America/Recife\", tz\"America/Regina\", tz\"America/Resolute\", tz\"America/Rio_Branco\", tz\"America/Rosario\", tz\"America/Santa_Isabel\", tz\"America/Santarem\", tz\"America/Santiago\", tz\"America/Santo_Domingo\", tz\"America/Sao_Paulo\", tz\"America/Scoresbysund\", tz\"America/Shiprock\", tz\"America/Sitka\", tz\"America/St_Barthelemy\", tz\"America/St_Johns\", tz\"America/St_Kitts\", tz\"America/St_Lucia\", tz\"America/St_Thomas\", tz\"America/St_Vincent\", tz\"America/Swift_Current\", tz\"America/Tegucigalpa\", tz\"America/Thule\", tz\"America/Thunder_Bay\", tz\"America/Tijuana\", tz\"America/Toronto\", tz\"America/Tortola\", tz\"America/Vancouver\", tz\"America/Virgin\", tz\"America/Whitehorse\", tz\"America/Winnipeg\", tz\"America/Yakutat\", tz\"America/Yellowknife\", tz\"Antarctica/Casey\", tz\"Antarctica/Davis\", tz\"Antarctica/DumontDUrville\", tz\"Antarctica/Macquarie\", tz\"Antarctica/Mawson\", tz\"Antarctica/McMurdo\", tz\"Antarctica/Palmer\", tz\"Antarctica/Rothera\", tz\"Antarctica/South_Pole\", tz\"Antarctica/Syowa\", tz\"Antarctica/Troll\", tz\"Antarctica/Vostok\", tz\"Arctic/Longyearbyen\", tz\"Asia/Aden\", tz\"Asia/Almaty\", tz\"Asia/Amman\", tz\"Asia/Anadyr\", tz\"Asia/Aqtau\", tz\"Asia/Aqtobe\", tz\"Asia/Ashgabat\", tz\"Asia/Ashkhabad\", tz\"Asia/Atyrau\", tz\"Asia/Baghdad\", tz\"Asia/Bahrain\", tz\"Asia/Baku\", tz\"Asia/Bangkok\", tz\"Asia/Barnaul\", tz\"Asia/Beirut\", tz\"Asia/Bishkek\", tz\"Asia/Brunei\", tz\"Asia/Calcutta\", tz\"Asia/Chita\", tz\"Asia/Choibalsan\", tz\"Asia/Chongqing\", tz\"Asia/Chungking\", tz\"Asia/Colombo\", tz\"Asia/Dacca\", tz\"Asia/Damascus\", tz\"Asia/Dhaka\", tz\"Asia/Dili\", tz\"Asia/Dubai\", tz\"Asia/Dushanbe\", tz\"Asia/Famagusta\", tz\"Asia/Gaza\", tz\"Asia/Harbin\", tz\"Asia/Hebron\", tz\"Asia/Ho_Chi_Minh\", tz\"Asia/Hong_Kong\", tz\"Asia/Hovd\", tz\"Asia/Irkutsk\", tz\"Asia/Istanbul\", tz\"Asia/Jakarta\", tz\"Asia/Jayapura\", tz\"Asia/Jerusalem\", tz\"Asia/Kabul\", tz\"Asia/Kamchatka\", tz\"Asia/Karachi\", tz\"Asia/Kashgar\", tz\"Asia/Kathmandu\", tz\"Asia/Katmandu\", tz\"Asia/Khandyga\", tz\"Asia/Kolkata\", tz\"Asia/Krasnoyarsk\", tz\"Asia/Kuala_Lumpur\", tz\"Asia/Kuching\", tz\"Asia/Kuwait\", tz\"Asia/Macao\", tz\"Asia/Macau\", tz\"Asia/Magadan\", tz\"Asia/Makassar\", tz\"Asia/Manila\", tz\"Asia/Muscat\", tz\"Asia/Nicosia\", tz\"Asia/Novokuznetsk\", tz\"Asia/Novosibirsk\", tz\"Asia/Omsk\", tz\"Asia/Oral\", tz\"Asia/Phnom_Penh\", tz\"Asia/Pontianak\", tz\"Asia/Pyongyang\", tz\"Asia/Qatar\", tz\"Asia/Qostanay\", tz\"Asia/Qyzylorda\", tz\"Asia/Rangoon\", tz\"Asia/Riyadh\", tz\"Asia/Saigon\", tz\"Asia/Sakhalin\", tz\"Asia/Samarkand\", tz\"Asia/Seoul\", tz\"Asia/Shanghai\", tz\"Asia/Singapore\", tz\"Asia/Srednekolymsk\", tz\"Asia/Taipei\", tz\"Asia/Tashkent\", tz\"Asia/Tbilisi\", tz\"Asia/Tehran\", tz\"Asia/Tel_Aviv\", tz\"Asia/Thimbu\", tz\"Asia/Thimphu\", tz\"Asia/Tokyo\", tz\"Asia/Tomsk\", tz\"Asia/Ujung_Pandang\", tz\"Asia/Ulaanbaatar\", tz\"Asia/Ulan_Bator\", tz\"Asia/Urumqi\", tz\"Asia/Ust-Nera\", tz\"Asia/Vientiane\", tz\"Asia/Vladivostok\", tz\"Asia/Yakutsk\", tz\"Asia/Yangon\", tz\"Asia/Yekaterinburg\", tz\"Asia/Yerevan\", tz\"Atlantic/Azores\", tz\"Atlantic/Bermuda\", tz\"Atlantic/Canary\", tz\"Atlantic/Cape_Verde\", tz\"Atlantic/Faeroe\", tz\"Atlantic/Faroe\", tz\"Atlantic/Jan_Mayen\", tz\"Atlantic/Madeira\", tz\"Atlantic/Reykjavik\", tz\"Atlantic/South_Georgia\", tz\"Atlantic/St_Helena\", tz\"Atlantic/Stanley\", tz\"Australia/ACT\", tz\"Australia/Adelaide\", tz\"Australia/Brisbane\", tz\"Australia/Broken_Hill\", tz\"Australia/Canberra\", tz\"Australia/Currie\", tz\"Australia/Darwin\", tz\"Australia/Eucla\", tz\"Australia/Hobart\", tz\"Australia/LHI\", tz\"Australia/Lindeman\", tz\"Australia/Lord_Howe\", tz\"Australia/Melbourne\", tz\"Australia/NSW\", tz\"Australia/North\", tz\"Australia/Perth\", tz\"Australia/Queensland\", tz\"Australia/South\", tz\"Australia/Sydney\", tz\"Australia/Tasmania\", tz\"Australia/Victoria\", tz\"Australia/West\", tz\"Australia/Yancowinna\", tz\"Brazil/Acre\", tz\"Brazil/DeNoronha\", tz\"Brazil/East\", tz\"Brazil/West\", tz\"CET\", tz\"CST6CDT\", tz\"Canada/Atlantic\", tz\"Canada/Central\", tz\"Canada/Eastern\", tz\"Canada/Mountain\", tz\"Canada/Newfoundland\", tz\"Canada/Pacific\", tz\"Canada/Saskatchewan\", tz\"Canada/Yukon\", tz\"Chile/Continental\", tz\"Chile/EasterIsland\", tz\"Cuba\", tz\"EET\", tz\"EST\", tz\"EST5EDT\", tz\"Egypt\", tz\"Eire\", tz\"Etc/GMT\", tz\"Etc/GMT+0\", tz\"Etc/GMT+1\", tz\"Etc/GMT+10\", tz\"Etc/GMT+11\", tz\"Etc/GMT+12\", tz\"Etc/GMT+2\", tz\"Etc/GMT+3\", tz\"Etc/GMT+4\", tz\"Etc/GMT+5\", tz\"Etc/GMT+6\", tz\"Etc/GMT+7\", tz\"Etc/GMT+8\", tz\"Etc/GMT+9\", tz\"Etc/GMT-0\", tz\"Etc/GMT-1\", tz\"Etc/GMT-10\", tz\"Etc/GMT-11\", tz\"Etc/GMT-12\", tz\"Etc/GMT-13\", tz\"Etc/GMT-14\", tz\"Etc/GMT-2\", tz\"Etc/GMT-3\", tz\"Etc/GMT-4\", tz\"Etc/GMT-5\", tz\"Etc/GMT-6\", tz\"Etc/GMT-7\", tz\"Etc/GMT-8\", tz\"Etc/GMT-9\", tz\"Etc/GMT0\", tz\"Etc/Greenwich\", tz\"Etc/UCT\", tz\"Etc/UTC\", tz\"Etc/Universal\", tz\"Etc/Zulu\", tz\"Europe/Amsterdam\", tz\"Europe/Andorra\", tz\"Europe/Astrakhan\", tz\"Europe/Athens\", tz\"Europe/Belfast\", tz\"Europe/Belgrade\", tz\"Europe/Berlin\", tz\"Europe/Bratislava\", tz\"Europe/Brussels\", tz\"Europe/Bucharest\", tz\"Europe/Budapest\", tz\"Europe/Busingen\", tz\"Europe/Chisinau\", tz\"Europe/Copenhagen\", tz\"Europe/Dublin\", tz\"Europe/Gibraltar\", tz\"Europe/Guernsey\", tz\"Europe/Helsinki\", tz\"Europe/Isle_of_Man\", tz\"Europe/Istanbul\", tz\"Europe/Jersey\", tz\"Europe/Kaliningrad\", tz\"Europe/Kiev\", tz\"Europe/Kirov\", tz\"Europe/Kyiv\", tz\"Europe/Lisbon\", tz\"Europe/Ljubljana\", tz\"Europe/London\", tz\"Europe/Luxembourg\", tz\"Europe/Madrid\", tz\"Europe/Malta\", tz\"Europe/Mariehamn\", tz\"Europe/Minsk\", tz\"Europe/Monaco\", tz\"Europe/Moscow\", tz\"Europe/Nicosia\", tz\"Europe/Oslo\", tz\"Europe/Paris\", tz\"Europe/Podgorica\", tz\"Europe/Prague\", tz\"Europe/Riga\", tz\"Europe/Rome\", tz\"Europe/Samara\", tz\"Europe/San_Marino\", tz\"Europe/Sarajevo\", tz\"Europe/Saratov\", tz\"Europe/Simferopol\", tz\"Europe/Skopje\", tz\"Europe/Sofia\", tz\"Europe/Stockholm\", tz\"Europe/Tallinn\", tz\"Europe/Tirane\", tz\"Europe/Tiraspol\", tz\"Europe/Ulyanovsk\", tz\"Europe/Uzhgorod\", tz\"Europe/Vaduz\", tz\"Europe/Vatican\", tz\"Europe/Vienna\", tz\"Europe/Vilnius\", tz\"Europe/Volgograd\", tz\"Europe/Warsaw\", tz\"Europe/Zagreb\", tz\"Europe/Zaporozhye\", tz\"Europe/Zurich\", tz\"GB\", tz\"GB-Eire\", tz\"GMT\", tz\"GMT+0\", tz\"GMT-0\", tz\"GMT0\", tz\"Greenwich\", tz\"HST\", tz\"Hongkong\", tz\"Iceland\", tz\"Indian/Antananarivo\", tz\"Indian/Chagos\", tz\"Indian/Christmas\", tz\"Indian/Cocos\", tz\"Indian/Comoro\", tz\"Indian/Kerguelen\", tz\"Indian/Mahe\", tz\"Indian/Maldives\", tz\"Indian/Mauritius\", tz\"Indian/Mayotte\", tz\"Indian/Reunion\", tz\"Iran\", tz\"Israel\", tz\"Jamaica\", tz\"Japan\", tz\"Kwajalein\", tz\"Libya\", tz\"MET\", tz\"MST\", tz\"MST7MDT\", tz\"Mexico/BajaNorte\", tz\"Mexico/BajaSur\", tz\"Mexico/General\", tz\"NZ\", tz\"NZ-CHAT\", tz\"Navajo\", tz\"PRC\", tz\"PST8PDT\", tz\"Pacific/Apia\", tz\"Pacific/Auckland\", tz\"Pacific/Bougainville\", tz\"Pacific/Chatham\", tz\"Pacific/Chuuk\", tz\"Pacific/Easter\", tz\"Pacific/Efate\", tz\"Pacific/Enderbury\", tz\"Pacific/Fakaofo\", tz\"Pacific/Fiji\", tz\"Pacific/Funafuti\", tz\"Pacific/Galapagos\", tz\"Pacific/Gambier\", tz\"Pacific/Guadalcanal\", tz\"Pacific/Guam\", tz\"Pacific/Honolulu\", tz\"Pacific/Johnston\", tz\"Pacific/Kanton\", tz\"Pacific/Kiritimati\", tz\"Pacific/Kosrae\", tz\"Pacific/Kwajalein\", tz\"Pacific/Majuro\", tz\"Pacific/Marquesas\", tz\"Pacific/Midway\", tz\"Pacific/Nauru\", tz\"Pacific/Niue\", tz\"Pacific/Norfolk\", tz\"Pacific/Noumea\", tz\"Pacific/Pago_Pago\", tz\"Pacific/Palau\", tz\"Pacific/Pitcairn\", tz\"Pacific/Pohnpei\", tz\"Pacific/Ponape\", tz\"Pacific/Port_Moresby\", tz\"Pacific/Rarotonga\", tz\"Pacific/Saipan\", tz\"Pacific/Samoa\", tz\"Pacific/Tahiti\", tz\"Pacific/Tarawa\", tz\"Pacific/Tongatapu\", tz\"Pacific/Truk\", tz\"Pacific/Wake\", tz\"Pacific/Wallis\", tz\"Pacific/Yap\", tz\"Poland\", tz\"Portugal\", tz\"ROC\", tz\"ROK\", tz\"Singapore\", tz\"Turkey\", tz\"UCT\", tz\"US/Alaska\", tz\"US/Aleutian\", tz\"US/Arizona\", tz\"US/Central\", tz\"US/East-Indiana\", tz\"US/Eastern\", tz\"US/Hawaii\", tz\"US/Indiana-Starke\", tz\"US/Michigan\", tz\"US/Mountain\", tz\"US/Pacific\", tz\"US/Samoa\", tz\"UTC\", tz\"Universal\", tz\"W-SU\", tz\"WET\", tz\"Zulu\"]\n",
      "------------------------------\n",
      "2025-02-18T19:18:24.385+01:00\n"
     ]
    }
   ],
   "source": [
    "# Práca s časovými pásmami\n"
   ]
  },
  {
   "cell_type": "code",
   "execution_count": null,
   "id": "181540ef-4bb9-4237-9bcd-46522754269a",
   "metadata": {},
   "outputs": [],
   "source": []
  }
 ],
 "metadata": {
  "kernelspec": {
   "display_name": "Julia 1.11.2",
   "language": "julia",
   "name": "julia-1.11"
  },
  "language_info": {
   "file_extension": ".jl",
   "mimetype": "application/julia",
   "name": "julia",
   "version": "1.11.2"
  }
 },
 "nbformat": 4,
 "nbformat_minor": 5
}
